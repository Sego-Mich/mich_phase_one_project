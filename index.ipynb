{
 "cells": [
  {
   "cell_type": "markdown",
   "id": "53c3c9e8",
   "metadata": {},
   "source": [
    "# Business Understanding \n",
    "## Business problem: \n",
    "My company is expanding in to new industries to diversify its portfolio. They are interested in purchasing and operating airplanes for commercial and private enterprises, I am charged to determine anything about the potential risks of aircraft. I am charged with determining which aircraft are the lowest risk for the company to start this new business endeavor.I am must then translate my findings into actionable insights that the head of the new aviation division can use to help decide which aircraft to purchase.\n",
    "## Project objectives: \n",
    "### Main objective\n",
    "To help decide which aircraft to purchase and operate airplanes for commercial and private enterprises.\n",
    "### Specific objectives\n",
    "<ul>\n",
    "    <li>To find correlation and visualize between </li>\n",
    "    <ol>\n",
    "    <li>make and mode and their risks</li> \n",
    "    <li>the type of aircraft category and their risks.</li> \n",
    "    <li>The type of engine and no of engines and their risks..</li> \n",
    "    </ol>\n",
    "</ul>\n"
   ]
  },
  {
   "cell_type": "markdown",
   "id": "f7891da0",
   "metadata": {},
   "source": [
    "# Data Understanding \n",
    "## Data collection\n",
    "[Data](https://www.kaggle.com/datasets/khsamaha/aviation-accident-database-synopses) was collected from the National Transportation Safety Board that includes aviation accident data from 1962 to 2023 about civil aviation accidents and selected incidents in the United States and international waters."
   ]
  },
  {
   "cell_type": "code",
   "execution_count": 1,
   "id": "3b3952a1",
   "metadata": {},
   "outputs": [],
   "source": [
    "#importing libraries for data manipulation (pandas, numpy) and visualization (seaborn, matplotlib)\n",
    "import numpy as np\n",
    "import pandas as pd \n",
    "import matplotlib.pyplot as plt\n",
    "import seaborn as sns"
   ]
  },
  {
   "cell_type": "code",
   "execution_count": 2,
   "id": "c9997e22",
   "metadata": {},
   "outputs": [],
   "source": [
    "# set the maximum number of columns to 40 to display all columns\n",
    "pd.set_option('display.max_columns', 40)"
   ]
  },
  {
   "cell_type": "markdown",
   "id": "2f81e4cc",
   "metadata": {},
   "source": [
    "## Reading Files\n",
    "Using pandas and load using <pre> ntsb_df = pd.read_csv('AviationData.csv', encoding='latin1')</pre>\n",
    "Then describing ntsb_df"
   ]
  },
  {
   "cell_type": "code",
   "execution_count": 3,
   "id": "a9577e74",
   "metadata": {},
   "outputs": [
    {
     "name": "stderr",
     "output_type": "stream",
     "text": [
      "C:\\anaconda\\lib\\site-packages\\IPython\\core\\interactiveshell.py:3444: DtypeWarning: Columns (6,7,28) have mixed types.Specify dtype option on import or set low_memory=False.\n",
      "  exec(code_obj, self.user_global_ns, self.user_ns)\n"
     ]
    }
   ],
   "source": [
    "#load National Transportation Safety Board(ntsb) dataset to ntsb_df\n",
    "#set encoding to latin1 to handle encoding error\n",
    "ntsb_df = pd.read_csv('AviationData.csv', encoding='latin1')"
   ]
  },
  {
   "cell_type": "code",
   "execution_count": 4,
   "id": "364cf162",
   "metadata": {},
   "outputs": [
    {
     "data": {
      "text/html": [
       "<div>\n",
       "<style scoped>\n",
       "    .dataframe tbody tr th:only-of-type {\n",
       "        vertical-align: middle;\n",
       "    }\n",
       "\n",
       "    .dataframe tbody tr th {\n",
       "        vertical-align: top;\n",
       "    }\n",
       "\n",
       "    .dataframe thead th {\n",
       "        text-align: right;\n",
       "    }\n",
       "</style>\n",
       "<table border=\"1\" class=\"dataframe\">\n",
       "  <thead>\n",
       "    <tr style=\"text-align: right;\">\n",
       "      <th></th>\n",
       "      <th>Event.Id</th>\n",
       "      <th>Investigation.Type</th>\n",
       "      <th>Accident.Number</th>\n",
       "      <th>Event.Date</th>\n",
       "      <th>Location</th>\n",
       "      <th>Country</th>\n",
       "      <th>Latitude</th>\n",
       "      <th>Longitude</th>\n",
       "      <th>Airport.Code</th>\n",
       "      <th>Airport.Name</th>\n",
       "      <th>Injury.Severity</th>\n",
       "      <th>Aircraft.damage</th>\n",
       "      <th>Aircraft.Category</th>\n",
       "      <th>Registration.Number</th>\n",
       "      <th>Make</th>\n",
       "      <th>Model</th>\n",
       "      <th>Amateur.Built</th>\n",
       "      <th>Number.of.Engines</th>\n",
       "      <th>Engine.Type</th>\n",
       "      <th>FAR.Description</th>\n",
       "      <th>Schedule</th>\n",
       "      <th>Purpose.of.flight</th>\n",
       "      <th>Air.carrier</th>\n",
       "      <th>Total.Fatal.Injuries</th>\n",
       "      <th>Total.Serious.Injuries</th>\n",
       "      <th>Total.Minor.Injuries</th>\n",
       "      <th>Total.Uninjured</th>\n",
       "      <th>Weather.Condition</th>\n",
       "      <th>Broad.phase.of.flight</th>\n",
       "      <th>Report.Status</th>\n",
       "      <th>Publication.Date</th>\n",
       "    </tr>\n",
       "  </thead>\n",
       "  <tbody>\n",
       "    <tr>\n",
       "      <th>0</th>\n",
       "      <td>20001218X45444</td>\n",
       "      <td>Accident</td>\n",
       "      <td>SEA87LA080</td>\n",
       "      <td>1948-10-24</td>\n",
       "      <td>MOOSE CREEK, ID</td>\n",
       "      <td>United States</td>\n",
       "      <td>NaN</td>\n",
       "      <td>NaN</td>\n",
       "      <td>NaN</td>\n",
       "      <td>NaN</td>\n",
       "      <td>Fatal(2)</td>\n",
       "      <td>Destroyed</td>\n",
       "      <td>NaN</td>\n",
       "      <td>NC6404</td>\n",
       "      <td>Stinson</td>\n",
       "      <td>108-3</td>\n",
       "      <td>No</td>\n",
       "      <td>1.0</td>\n",
       "      <td>Reciprocating</td>\n",
       "      <td>NaN</td>\n",
       "      <td>NaN</td>\n",
       "      <td>Personal</td>\n",
       "      <td>NaN</td>\n",
       "      <td>2.0</td>\n",
       "      <td>0.0</td>\n",
       "      <td>0.0</td>\n",
       "      <td>0.0</td>\n",
       "      <td>UNK</td>\n",
       "      <td>Cruise</td>\n",
       "      <td>Probable Cause</td>\n",
       "      <td>NaN</td>\n",
       "    </tr>\n",
       "    <tr>\n",
       "      <th>1</th>\n",
       "      <td>20001218X45447</td>\n",
       "      <td>Accident</td>\n",
       "      <td>LAX94LA336</td>\n",
       "      <td>1962-07-19</td>\n",
       "      <td>BRIDGEPORT, CA</td>\n",
       "      <td>United States</td>\n",
       "      <td>NaN</td>\n",
       "      <td>NaN</td>\n",
       "      <td>NaN</td>\n",
       "      <td>NaN</td>\n",
       "      <td>Fatal(4)</td>\n",
       "      <td>Destroyed</td>\n",
       "      <td>NaN</td>\n",
       "      <td>N5069P</td>\n",
       "      <td>Piper</td>\n",
       "      <td>PA24-180</td>\n",
       "      <td>No</td>\n",
       "      <td>1.0</td>\n",
       "      <td>Reciprocating</td>\n",
       "      <td>NaN</td>\n",
       "      <td>NaN</td>\n",
       "      <td>Personal</td>\n",
       "      <td>NaN</td>\n",
       "      <td>4.0</td>\n",
       "      <td>0.0</td>\n",
       "      <td>0.0</td>\n",
       "      <td>0.0</td>\n",
       "      <td>UNK</td>\n",
       "      <td>Unknown</td>\n",
       "      <td>Probable Cause</td>\n",
       "      <td>19-09-1996</td>\n",
       "    </tr>\n",
       "    <tr>\n",
       "      <th>2</th>\n",
       "      <td>20061025X01555</td>\n",
       "      <td>Accident</td>\n",
       "      <td>NYC07LA005</td>\n",
       "      <td>1974-08-30</td>\n",
       "      <td>Saltville, VA</td>\n",
       "      <td>United States</td>\n",
       "      <td>36.922223</td>\n",
       "      <td>-81.878056</td>\n",
       "      <td>NaN</td>\n",
       "      <td>NaN</td>\n",
       "      <td>Fatal(3)</td>\n",
       "      <td>Destroyed</td>\n",
       "      <td>NaN</td>\n",
       "      <td>N5142R</td>\n",
       "      <td>Cessna</td>\n",
       "      <td>172M</td>\n",
       "      <td>No</td>\n",
       "      <td>1.0</td>\n",
       "      <td>Reciprocating</td>\n",
       "      <td>NaN</td>\n",
       "      <td>NaN</td>\n",
       "      <td>Personal</td>\n",
       "      <td>NaN</td>\n",
       "      <td>3.0</td>\n",
       "      <td>NaN</td>\n",
       "      <td>NaN</td>\n",
       "      <td>NaN</td>\n",
       "      <td>IMC</td>\n",
       "      <td>Cruise</td>\n",
       "      <td>Probable Cause</td>\n",
       "      <td>26-02-2007</td>\n",
       "    </tr>\n",
       "    <tr>\n",
       "      <th>3</th>\n",
       "      <td>20001218X45448</td>\n",
       "      <td>Accident</td>\n",
       "      <td>LAX96LA321</td>\n",
       "      <td>1977-06-19</td>\n",
       "      <td>EUREKA, CA</td>\n",
       "      <td>United States</td>\n",
       "      <td>NaN</td>\n",
       "      <td>NaN</td>\n",
       "      <td>NaN</td>\n",
       "      <td>NaN</td>\n",
       "      <td>Fatal(2)</td>\n",
       "      <td>Destroyed</td>\n",
       "      <td>NaN</td>\n",
       "      <td>N1168J</td>\n",
       "      <td>Rockwell</td>\n",
       "      <td>112</td>\n",
       "      <td>No</td>\n",
       "      <td>1.0</td>\n",
       "      <td>Reciprocating</td>\n",
       "      <td>NaN</td>\n",
       "      <td>NaN</td>\n",
       "      <td>Personal</td>\n",
       "      <td>NaN</td>\n",
       "      <td>2.0</td>\n",
       "      <td>0.0</td>\n",
       "      <td>0.0</td>\n",
       "      <td>0.0</td>\n",
       "      <td>IMC</td>\n",
       "      <td>Cruise</td>\n",
       "      <td>Probable Cause</td>\n",
       "      <td>12-09-2000</td>\n",
       "    </tr>\n",
       "    <tr>\n",
       "      <th>4</th>\n",
       "      <td>20041105X01764</td>\n",
       "      <td>Accident</td>\n",
       "      <td>CHI79FA064</td>\n",
       "      <td>1979-08-02</td>\n",
       "      <td>Canton, OH</td>\n",
       "      <td>United States</td>\n",
       "      <td>NaN</td>\n",
       "      <td>NaN</td>\n",
       "      <td>NaN</td>\n",
       "      <td>NaN</td>\n",
       "      <td>Fatal(1)</td>\n",
       "      <td>Destroyed</td>\n",
       "      <td>NaN</td>\n",
       "      <td>N15NY</td>\n",
       "      <td>Cessna</td>\n",
       "      <td>501</td>\n",
       "      <td>No</td>\n",
       "      <td>NaN</td>\n",
       "      <td>NaN</td>\n",
       "      <td>NaN</td>\n",
       "      <td>NaN</td>\n",
       "      <td>Personal</td>\n",
       "      <td>NaN</td>\n",
       "      <td>1.0</td>\n",
       "      <td>2.0</td>\n",
       "      <td>NaN</td>\n",
       "      <td>0.0</td>\n",
       "      <td>VMC</td>\n",
       "      <td>Approach</td>\n",
       "      <td>Probable Cause</td>\n",
       "      <td>16-04-1980</td>\n",
       "    </tr>\n",
       "  </tbody>\n",
       "</table>\n",
       "</div>"
      ],
      "text/plain": [
       "         Event.Id Investigation.Type Accident.Number  Event.Date  \\\n",
       "0  20001218X45444           Accident      SEA87LA080  1948-10-24   \n",
       "1  20001218X45447           Accident      LAX94LA336  1962-07-19   \n",
       "2  20061025X01555           Accident      NYC07LA005  1974-08-30   \n",
       "3  20001218X45448           Accident      LAX96LA321  1977-06-19   \n",
       "4  20041105X01764           Accident      CHI79FA064  1979-08-02   \n",
       "\n",
       "          Location        Country   Latitude  Longitude Airport.Code  \\\n",
       "0  MOOSE CREEK, ID  United States        NaN        NaN          NaN   \n",
       "1   BRIDGEPORT, CA  United States        NaN        NaN          NaN   \n",
       "2    Saltville, VA  United States  36.922223 -81.878056          NaN   \n",
       "3       EUREKA, CA  United States        NaN        NaN          NaN   \n",
       "4       Canton, OH  United States        NaN        NaN          NaN   \n",
       "\n",
       "  Airport.Name Injury.Severity Aircraft.damage Aircraft.Category  \\\n",
       "0          NaN        Fatal(2)       Destroyed               NaN   \n",
       "1          NaN        Fatal(4)       Destroyed               NaN   \n",
       "2          NaN        Fatal(3)       Destroyed               NaN   \n",
       "3          NaN        Fatal(2)       Destroyed               NaN   \n",
       "4          NaN        Fatal(1)       Destroyed               NaN   \n",
       "\n",
       "  Registration.Number      Make     Model Amateur.Built  Number.of.Engines  \\\n",
       "0              NC6404   Stinson     108-3            No                1.0   \n",
       "1              N5069P     Piper  PA24-180            No                1.0   \n",
       "2              N5142R    Cessna      172M            No                1.0   \n",
       "3              N1168J  Rockwell       112            No                1.0   \n",
       "4               N15NY    Cessna       501            No                NaN   \n",
       "\n",
       "     Engine.Type FAR.Description Schedule Purpose.of.flight Air.carrier  \\\n",
       "0  Reciprocating             NaN      NaN          Personal         NaN   \n",
       "1  Reciprocating             NaN      NaN          Personal         NaN   \n",
       "2  Reciprocating             NaN      NaN          Personal         NaN   \n",
       "3  Reciprocating             NaN      NaN          Personal         NaN   \n",
       "4            NaN             NaN      NaN          Personal         NaN   \n",
       "\n",
       "   Total.Fatal.Injuries  Total.Serious.Injuries  Total.Minor.Injuries  \\\n",
       "0                   2.0                     0.0                   0.0   \n",
       "1                   4.0                     0.0                   0.0   \n",
       "2                   3.0                     NaN                   NaN   \n",
       "3                   2.0                     0.0                   0.0   \n",
       "4                   1.0                     2.0                   NaN   \n",
       "\n",
       "   Total.Uninjured Weather.Condition Broad.phase.of.flight   Report.Status  \\\n",
       "0              0.0               UNK                Cruise  Probable Cause   \n",
       "1              0.0               UNK               Unknown  Probable Cause   \n",
       "2              NaN               IMC                Cruise  Probable Cause   \n",
       "3              0.0               IMC                Cruise  Probable Cause   \n",
       "4              0.0               VMC              Approach  Probable Cause   \n",
       "\n",
       "  Publication.Date  \n",
       "0              NaN  \n",
       "1       19-09-1996  \n",
       "2       26-02-2007  \n",
       "3       12-09-2000  \n",
       "4       16-04-1980  "
      ]
     },
     "execution_count": 4,
     "metadata": {},
     "output_type": "execute_result"
    }
   ],
   "source": [
    "#getting top 5 rows\n",
    "ntsb_df.head()"
   ]
  },
  {
   "cell_type": "code",
   "execution_count": 5,
   "id": "74d7642d",
   "metadata": {},
   "outputs": [
    {
     "data": {
      "text/html": [
       "<div>\n",
       "<style scoped>\n",
       "    .dataframe tbody tr th:only-of-type {\n",
       "        vertical-align: middle;\n",
       "    }\n",
       "\n",
       "    .dataframe tbody tr th {\n",
       "        vertical-align: top;\n",
       "    }\n",
       "\n",
       "    .dataframe thead th {\n",
       "        text-align: right;\n",
       "    }\n",
       "</style>\n",
       "<table border=\"1\" class=\"dataframe\">\n",
       "  <thead>\n",
       "    <tr style=\"text-align: right;\">\n",
       "      <th></th>\n",
       "      <th>Event.Id</th>\n",
       "      <th>Investigation.Type</th>\n",
       "      <th>Accident.Number</th>\n",
       "      <th>Event.Date</th>\n",
       "      <th>Location</th>\n",
       "      <th>Country</th>\n",
       "      <th>Latitude</th>\n",
       "      <th>Longitude</th>\n",
       "      <th>Airport.Code</th>\n",
       "      <th>Airport.Name</th>\n",
       "      <th>Injury.Severity</th>\n",
       "      <th>Aircraft.damage</th>\n",
       "      <th>Aircraft.Category</th>\n",
       "      <th>Registration.Number</th>\n",
       "      <th>Make</th>\n",
       "      <th>Model</th>\n",
       "      <th>Amateur.Built</th>\n",
       "      <th>Number.of.Engines</th>\n",
       "      <th>Engine.Type</th>\n",
       "      <th>FAR.Description</th>\n",
       "      <th>Schedule</th>\n",
       "      <th>Purpose.of.flight</th>\n",
       "      <th>Air.carrier</th>\n",
       "      <th>Total.Fatal.Injuries</th>\n",
       "      <th>Total.Serious.Injuries</th>\n",
       "      <th>Total.Minor.Injuries</th>\n",
       "      <th>Total.Uninjured</th>\n",
       "      <th>Weather.Condition</th>\n",
       "      <th>Broad.phase.of.flight</th>\n",
       "      <th>Report.Status</th>\n",
       "      <th>Publication.Date</th>\n",
       "    </tr>\n",
       "  </thead>\n",
       "  <tbody>\n",
       "    <tr>\n",
       "      <th>88884</th>\n",
       "      <td>20221227106491</td>\n",
       "      <td>Accident</td>\n",
       "      <td>ERA23LA093</td>\n",
       "      <td>2022-12-26</td>\n",
       "      <td>Annapolis, MD</td>\n",
       "      <td>United States</td>\n",
       "      <td>NaN</td>\n",
       "      <td>NaN</td>\n",
       "      <td>NaN</td>\n",
       "      <td>NaN</td>\n",
       "      <td>Minor</td>\n",
       "      <td>NaN</td>\n",
       "      <td>NaN</td>\n",
       "      <td>N1867H</td>\n",
       "      <td>PIPER</td>\n",
       "      <td>PA-28-151</td>\n",
       "      <td>No</td>\n",
       "      <td>NaN</td>\n",
       "      <td>NaN</td>\n",
       "      <td>091</td>\n",
       "      <td>NaN</td>\n",
       "      <td>Personal</td>\n",
       "      <td>NaN</td>\n",
       "      <td>0.0</td>\n",
       "      <td>1.0</td>\n",
       "      <td>0.0</td>\n",
       "      <td>0.0</td>\n",
       "      <td>NaN</td>\n",
       "      <td>NaN</td>\n",
       "      <td>NaN</td>\n",
       "      <td>29-12-2022</td>\n",
       "    </tr>\n",
       "    <tr>\n",
       "      <th>88885</th>\n",
       "      <td>20221227106494</td>\n",
       "      <td>Accident</td>\n",
       "      <td>ERA23LA095</td>\n",
       "      <td>2022-12-26</td>\n",
       "      <td>Hampton, NH</td>\n",
       "      <td>United States</td>\n",
       "      <td>NaN</td>\n",
       "      <td>NaN</td>\n",
       "      <td>NaN</td>\n",
       "      <td>NaN</td>\n",
       "      <td>NaN</td>\n",
       "      <td>NaN</td>\n",
       "      <td>NaN</td>\n",
       "      <td>N2895Z</td>\n",
       "      <td>BELLANCA</td>\n",
       "      <td>7ECA</td>\n",
       "      <td>No</td>\n",
       "      <td>NaN</td>\n",
       "      <td>NaN</td>\n",
       "      <td>NaN</td>\n",
       "      <td>NaN</td>\n",
       "      <td>NaN</td>\n",
       "      <td>NaN</td>\n",
       "      <td>0.0</td>\n",
       "      <td>0.0</td>\n",
       "      <td>0.0</td>\n",
       "      <td>0.0</td>\n",
       "      <td>NaN</td>\n",
       "      <td>NaN</td>\n",
       "      <td>NaN</td>\n",
       "      <td>NaN</td>\n",
       "    </tr>\n",
       "    <tr>\n",
       "      <th>88886</th>\n",
       "      <td>20221227106497</td>\n",
       "      <td>Accident</td>\n",
       "      <td>WPR23LA075</td>\n",
       "      <td>2022-12-26</td>\n",
       "      <td>Payson, AZ</td>\n",
       "      <td>United States</td>\n",
       "      <td>341525N</td>\n",
       "      <td>1112021W</td>\n",
       "      <td>PAN</td>\n",
       "      <td>PAYSON</td>\n",
       "      <td>Non-Fatal</td>\n",
       "      <td>Substantial</td>\n",
       "      <td>Airplane</td>\n",
       "      <td>N749PJ</td>\n",
       "      <td>AMERICAN CHAMPION AIRCRAFT</td>\n",
       "      <td>8GCBC</td>\n",
       "      <td>No</td>\n",
       "      <td>1.0</td>\n",
       "      <td>NaN</td>\n",
       "      <td>091</td>\n",
       "      <td>NaN</td>\n",
       "      <td>Personal</td>\n",
       "      <td>NaN</td>\n",
       "      <td>0.0</td>\n",
       "      <td>0.0</td>\n",
       "      <td>0.0</td>\n",
       "      <td>1.0</td>\n",
       "      <td>VMC</td>\n",
       "      <td>NaN</td>\n",
       "      <td>NaN</td>\n",
       "      <td>27-12-2022</td>\n",
       "    </tr>\n",
       "    <tr>\n",
       "      <th>88887</th>\n",
       "      <td>20221227106498</td>\n",
       "      <td>Accident</td>\n",
       "      <td>WPR23LA076</td>\n",
       "      <td>2022-12-26</td>\n",
       "      <td>Morgan, UT</td>\n",
       "      <td>United States</td>\n",
       "      <td>NaN</td>\n",
       "      <td>NaN</td>\n",
       "      <td>NaN</td>\n",
       "      <td>NaN</td>\n",
       "      <td>NaN</td>\n",
       "      <td>NaN</td>\n",
       "      <td>NaN</td>\n",
       "      <td>N210CU</td>\n",
       "      <td>CESSNA</td>\n",
       "      <td>210N</td>\n",
       "      <td>No</td>\n",
       "      <td>NaN</td>\n",
       "      <td>NaN</td>\n",
       "      <td>091</td>\n",
       "      <td>NaN</td>\n",
       "      <td>Personal</td>\n",
       "      <td>MC CESSNA 210N LLC</td>\n",
       "      <td>0.0</td>\n",
       "      <td>0.0</td>\n",
       "      <td>0.0</td>\n",
       "      <td>0.0</td>\n",
       "      <td>NaN</td>\n",
       "      <td>NaN</td>\n",
       "      <td>NaN</td>\n",
       "      <td>NaN</td>\n",
       "    </tr>\n",
       "    <tr>\n",
       "      <th>88888</th>\n",
       "      <td>20221230106513</td>\n",
       "      <td>Accident</td>\n",
       "      <td>ERA23LA097</td>\n",
       "      <td>2022-12-29</td>\n",
       "      <td>Athens, GA</td>\n",
       "      <td>United States</td>\n",
       "      <td>NaN</td>\n",
       "      <td>NaN</td>\n",
       "      <td>NaN</td>\n",
       "      <td>NaN</td>\n",
       "      <td>Minor</td>\n",
       "      <td>NaN</td>\n",
       "      <td>NaN</td>\n",
       "      <td>N9026P</td>\n",
       "      <td>PIPER</td>\n",
       "      <td>PA-24-260</td>\n",
       "      <td>No</td>\n",
       "      <td>NaN</td>\n",
       "      <td>NaN</td>\n",
       "      <td>091</td>\n",
       "      <td>NaN</td>\n",
       "      <td>Personal</td>\n",
       "      <td>NaN</td>\n",
       "      <td>0.0</td>\n",
       "      <td>1.0</td>\n",
       "      <td>0.0</td>\n",
       "      <td>1.0</td>\n",
       "      <td>NaN</td>\n",
       "      <td>NaN</td>\n",
       "      <td>NaN</td>\n",
       "      <td>30-12-2022</td>\n",
       "    </tr>\n",
       "  </tbody>\n",
       "</table>\n",
       "</div>"
      ],
      "text/plain": [
       "             Event.Id Investigation.Type Accident.Number  Event.Date  \\\n",
       "88884  20221227106491           Accident      ERA23LA093  2022-12-26   \n",
       "88885  20221227106494           Accident      ERA23LA095  2022-12-26   \n",
       "88886  20221227106497           Accident      WPR23LA075  2022-12-26   \n",
       "88887  20221227106498           Accident      WPR23LA076  2022-12-26   \n",
       "88888  20221230106513           Accident      ERA23LA097  2022-12-29   \n",
       "\n",
       "            Location        Country Latitude Longitude Airport.Code  \\\n",
       "88884  Annapolis, MD  United States      NaN       NaN          NaN   \n",
       "88885    Hampton, NH  United States      NaN       NaN          NaN   \n",
       "88886     Payson, AZ  United States  341525N  1112021W          PAN   \n",
       "88887     Morgan, UT  United States      NaN       NaN          NaN   \n",
       "88888     Athens, GA  United States      NaN       NaN          NaN   \n",
       "\n",
       "      Airport.Name Injury.Severity Aircraft.damage Aircraft.Category  \\\n",
       "88884          NaN           Minor             NaN               NaN   \n",
       "88885          NaN             NaN             NaN               NaN   \n",
       "88886       PAYSON       Non-Fatal     Substantial          Airplane   \n",
       "88887          NaN             NaN             NaN               NaN   \n",
       "88888          NaN           Minor             NaN               NaN   \n",
       "\n",
       "      Registration.Number                        Make      Model  \\\n",
       "88884              N1867H                       PIPER  PA-28-151   \n",
       "88885              N2895Z                    BELLANCA       7ECA   \n",
       "88886              N749PJ  AMERICAN CHAMPION AIRCRAFT      8GCBC   \n",
       "88887              N210CU                      CESSNA       210N   \n",
       "88888              N9026P                       PIPER  PA-24-260   \n",
       "\n",
       "      Amateur.Built  Number.of.Engines Engine.Type FAR.Description Schedule  \\\n",
       "88884            No                NaN         NaN             091      NaN   \n",
       "88885            No                NaN         NaN             NaN      NaN   \n",
       "88886            No                1.0         NaN             091      NaN   \n",
       "88887            No                NaN         NaN             091      NaN   \n",
       "88888            No                NaN         NaN             091      NaN   \n",
       "\n",
       "      Purpose.of.flight         Air.carrier  Total.Fatal.Injuries  \\\n",
       "88884          Personal                 NaN                   0.0   \n",
       "88885               NaN                 NaN                   0.0   \n",
       "88886          Personal                 NaN                   0.0   \n",
       "88887          Personal  MC CESSNA 210N LLC                   0.0   \n",
       "88888          Personal                 NaN                   0.0   \n",
       "\n",
       "       Total.Serious.Injuries  Total.Minor.Injuries  Total.Uninjured  \\\n",
       "88884                     1.0                   0.0              0.0   \n",
       "88885                     0.0                   0.0              0.0   \n",
       "88886                     0.0                   0.0              1.0   \n",
       "88887                     0.0                   0.0              0.0   \n",
       "88888                     1.0                   0.0              1.0   \n",
       "\n",
       "      Weather.Condition Broad.phase.of.flight Report.Status Publication.Date  \n",
       "88884               NaN                   NaN           NaN       29-12-2022  \n",
       "88885               NaN                   NaN           NaN              NaN  \n",
       "88886               VMC                   NaN           NaN       27-12-2022  \n",
       "88887               NaN                   NaN           NaN              NaN  \n",
       "88888               NaN                   NaN           NaN       30-12-2022  "
      ]
     },
     "execution_count": 5,
     "metadata": {},
     "output_type": "execute_result"
    }
   ],
   "source": [
    "#getting bottom 5 rows\n",
    "ntsb_df.tail()"
   ]
  },
  {
   "cell_type": "code",
   "execution_count": 6,
   "id": "61e10a8f",
   "metadata": {},
   "outputs": [
    {
     "data": {
      "text/html": [
       "<div>\n",
       "<style scoped>\n",
       "    .dataframe tbody tr th:only-of-type {\n",
       "        vertical-align: middle;\n",
       "    }\n",
       "\n",
       "    .dataframe tbody tr th {\n",
       "        vertical-align: top;\n",
       "    }\n",
       "\n",
       "    .dataframe thead th {\n",
       "        text-align: right;\n",
       "    }\n",
       "</style>\n",
       "<table border=\"1\" class=\"dataframe\">\n",
       "  <thead>\n",
       "    <tr style=\"text-align: right;\">\n",
       "      <th></th>\n",
       "      <th>Event.Id</th>\n",
       "      <th>Investigation.Type</th>\n",
       "      <th>Accident.Number</th>\n",
       "      <th>Event.Date</th>\n",
       "      <th>Location</th>\n",
       "      <th>Country</th>\n",
       "      <th>Latitude</th>\n",
       "      <th>Longitude</th>\n",
       "      <th>Airport.Code</th>\n",
       "      <th>Airport.Name</th>\n",
       "      <th>Injury.Severity</th>\n",
       "      <th>Aircraft.damage</th>\n",
       "      <th>Aircraft.Category</th>\n",
       "      <th>Registration.Number</th>\n",
       "      <th>Make</th>\n",
       "      <th>Model</th>\n",
       "      <th>Amateur.Built</th>\n",
       "      <th>Number.of.Engines</th>\n",
       "      <th>Engine.Type</th>\n",
       "      <th>FAR.Description</th>\n",
       "      <th>Schedule</th>\n",
       "      <th>Purpose.of.flight</th>\n",
       "      <th>Air.carrier</th>\n",
       "      <th>Total.Fatal.Injuries</th>\n",
       "      <th>Total.Serious.Injuries</th>\n",
       "      <th>Total.Minor.Injuries</th>\n",
       "      <th>Total.Uninjured</th>\n",
       "      <th>Weather.Condition</th>\n",
       "      <th>Broad.phase.of.flight</th>\n",
       "      <th>Report.Status</th>\n",
       "      <th>Publication.Date</th>\n",
       "    </tr>\n",
       "  </thead>\n",
       "  <tbody>\n",
       "    <tr>\n",
       "      <th>88884</th>\n",
       "      <td>20221227106491</td>\n",
       "      <td>Accident</td>\n",
       "      <td>ERA23LA093</td>\n",
       "      <td>2022-12-26</td>\n",
       "      <td>Annapolis, MD</td>\n",
       "      <td>United States</td>\n",
       "      <td>NaN</td>\n",
       "      <td>NaN</td>\n",
       "      <td>NaN</td>\n",
       "      <td>NaN</td>\n",
       "      <td>Minor</td>\n",
       "      <td>NaN</td>\n",
       "      <td>NaN</td>\n",
       "      <td>N1867H</td>\n",
       "      <td>PIPER</td>\n",
       "      <td>PA-28-151</td>\n",
       "      <td>No</td>\n",
       "      <td>NaN</td>\n",
       "      <td>NaN</td>\n",
       "      <td>091</td>\n",
       "      <td>NaN</td>\n",
       "      <td>Personal</td>\n",
       "      <td>NaN</td>\n",
       "      <td>0.0</td>\n",
       "      <td>1.0</td>\n",
       "      <td>0.0</td>\n",
       "      <td>0.0</td>\n",
       "      <td>NaN</td>\n",
       "      <td>NaN</td>\n",
       "      <td>NaN</td>\n",
       "      <td>29-12-2022</td>\n",
       "    </tr>\n",
       "    <tr>\n",
       "      <th>88885</th>\n",
       "      <td>20221227106494</td>\n",
       "      <td>Accident</td>\n",
       "      <td>ERA23LA095</td>\n",
       "      <td>2022-12-26</td>\n",
       "      <td>Hampton, NH</td>\n",
       "      <td>United States</td>\n",
       "      <td>NaN</td>\n",
       "      <td>NaN</td>\n",
       "      <td>NaN</td>\n",
       "      <td>NaN</td>\n",
       "      <td>NaN</td>\n",
       "      <td>NaN</td>\n",
       "      <td>NaN</td>\n",
       "      <td>N2895Z</td>\n",
       "      <td>BELLANCA</td>\n",
       "      <td>7ECA</td>\n",
       "      <td>No</td>\n",
       "      <td>NaN</td>\n",
       "      <td>NaN</td>\n",
       "      <td>NaN</td>\n",
       "      <td>NaN</td>\n",
       "      <td>NaN</td>\n",
       "      <td>NaN</td>\n",
       "      <td>0.0</td>\n",
       "      <td>0.0</td>\n",
       "      <td>0.0</td>\n",
       "      <td>0.0</td>\n",
       "      <td>NaN</td>\n",
       "      <td>NaN</td>\n",
       "      <td>NaN</td>\n",
       "      <td>NaN</td>\n",
       "    </tr>\n",
       "    <tr>\n",
       "      <th>88886</th>\n",
       "      <td>20221227106497</td>\n",
       "      <td>Accident</td>\n",
       "      <td>WPR23LA075</td>\n",
       "      <td>2022-12-26</td>\n",
       "      <td>Payson, AZ</td>\n",
       "      <td>United States</td>\n",
       "      <td>341525N</td>\n",
       "      <td>1112021W</td>\n",
       "      <td>PAN</td>\n",
       "      <td>PAYSON</td>\n",
       "      <td>Non-Fatal</td>\n",
       "      <td>Substantial</td>\n",
       "      <td>Airplane</td>\n",
       "      <td>N749PJ</td>\n",
       "      <td>AMERICAN CHAMPION AIRCRAFT</td>\n",
       "      <td>8GCBC</td>\n",
       "      <td>No</td>\n",
       "      <td>1.0</td>\n",
       "      <td>NaN</td>\n",
       "      <td>091</td>\n",
       "      <td>NaN</td>\n",
       "      <td>Personal</td>\n",
       "      <td>NaN</td>\n",
       "      <td>0.0</td>\n",
       "      <td>0.0</td>\n",
       "      <td>0.0</td>\n",
       "      <td>1.0</td>\n",
       "      <td>VMC</td>\n",
       "      <td>NaN</td>\n",
       "      <td>NaN</td>\n",
       "      <td>27-12-2022</td>\n",
       "    </tr>\n",
       "    <tr>\n",
       "      <th>88887</th>\n",
       "      <td>20221227106498</td>\n",
       "      <td>Accident</td>\n",
       "      <td>WPR23LA076</td>\n",
       "      <td>2022-12-26</td>\n",
       "      <td>Morgan, UT</td>\n",
       "      <td>United States</td>\n",
       "      <td>NaN</td>\n",
       "      <td>NaN</td>\n",
       "      <td>NaN</td>\n",
       "      <td>NaN</td>\n",
       "      <td>NaN</td>\n",
       "      <td>NaN</td>\n",
       "      <td>NaN</td>\n",
       "      <td>N210CU</td>\n",
       "      <td>CESSNA</td>\n",
       "      <td>210N</td>\n",
       "      <td>No</td>\n",
       "      <td>NaN</td>\n",
       "      <td>NaN</td>\n",
       "      <td>091</td>\n",
       "      <td>NaN</td>\n",
       "      <td>Personal</td>\n",
       "      <td>MC CESSNA 210N LLC</td>\n",
       "      <td>0.0</td>\n",
       "      <td>0.0</td>\n",
       "      <td>0.0</td>\n",
       "      <td>0.0</td>\n",
       "      <td>NaN</td>\n",
       "      <td>NaN</td>\n",
       "      <td>NaN</td>\n",
       "      <td>NaN</td>\n",
       "    </tr>\n",
       "    <tr>\n",
       "      <th>88888</th>\n",
       "      <td>20221230106513</td>\n",
       "      <td>Accident</td>\n",
       "      <td>ERA23LA097</td>\n",
       "      <td>2022-12-29</td>\n",
       "      <td>Athens, GA</td>\n",
       "      <td>United States</td>\n",
       "      <td>NaN</td>\n",
       "      <td>NaN</td>\n",
       "      <td>NaN</td>\n",
       "      <td>NaN</td>\n",
       "      <td>Minor</td>\n",
       "      <td>NaN</td>\n",
       "      <td>NaN</td>\n",
       "      <td>N9026P</td>\n",
       "      <td>PIPER</td>\n",
       "      <td>PA-24-260</td>\n",
       "      <td>No</td>\n",
       "      <td>NaN</td>\n",
       "      <td>NaN</td>\n",
       "      <td>091</td>\n",
       "      <td>NaN</td>\n",
       "      <td>Personal</td>\n",
       "      <td>NaN</td>\n",
       "      <td>0.0</td>\n",
       "      <td>1.0</td>\n",
       "      <td>0.0</td>\n",
       "      <td>1.0</td>\n",
       "      <td>NaN</td>\n",
       "      <td>NaN</td>\n",
       "      <td>NaN</td>\n",
       "      <td>30-12-2022</td>\n",
       "    </tr>\n",
       "  </tbody>\n",
       "</table>\n",
       "</div>"
      ],
      "text/plain": [
       "             Event.Id Investigation.Type Accident.Number  Event.Date  \\\n",
       "88884  20221227106491           Accident      ERA23LA093  2022-12-26   \n",
       "88885  20221227106494           Accident      ERA23LA095  2022-12-26   \n",
       "88886  20221227106497           Accident      WPR23LA075  2022-12-26   \n",
       "88887  20221227106498           Accident      WPR23LA076  2022-12-26   \n",
       "88888  20221230106513           Accident      ERA23LA097  2022-12-29   \n",
       "\n",
       "            Location        Country Latitude Longitude Airport.Code  \\\n",
       "88884  Annapolis, MD  United States      NaN       NaN          NaN   \n",
       "88885    Hampton, NH  United States      NaN       NaN          NaN   \n",
       "88886     Payson, AZ  United States  341525N  1112021W          PAN   \n",
       "88887     Morgan, UT  United States      NaN       NaN          NaN   \n",
       "88888     Athens, GA  United States      NaN       NaN          NaN   \n",
       "\n",
       "      Airport.Name Injury.Severity Aircraft.damage Aircraft.Category  \\\n",
       "88884          NaN           Minor             NaN               NaN   \n",
       "88885          NaN             NaN             NaN               NaN   \n",
       "88886       PAYSON       Non-Fatal     Substantial          Airplane   \n",
       "88887          NaN             NaN             NaN               NaN   \n",
       "88888          NaN           Minor             NaN               NaN   \n",
       "\n",
       "      Registration.Number                        Make      Model  \\\n",
       "88884              N1867H                       PIPER  PA-28-151   \n",
       "88885              N2895Z                    BELLANCA       7ECA   \n",
       "88886              N749PJ  AMERICAN CHAMPION AIRCRAFT      8GCBC   \n",
       "88887              N210CU                      CESSNA       210N   \n",
       "88888              N9026P                       PIPER  PA-24-260   \n",
       "\n",
       "      Amateur.Built  Number.of.Engines Engine.Type FAR.Description Schedule  \\\n",
       "88884            No                NaN         NaN             091      NaN   \n",
       "88885            No                NaN         NaN             NaN      NaN   \n",
       "88886            No                1.0         NaN             091      NaN   \n",
       "88887            No                NaN         NaN             091      NaN   \n",
       "88888            No                NaN         NaN             091      NaN   \n",
       "\n",
       "      Purpose.of.flight         Air.carrier  Total.Fatal.Injuries  \\\n",
       "88884          Personal                 NaN                   0.0   \n",
       "88885               NaN                 NaN                   0.0   \n",
       "88886          Personal                 NaN                   0.0   \n",
       "88887          Personal  MC CESSNA 210N LLC                   0.0   \n",
       "88888          Personal                 NaN                   0.0   \n",
       "\n",
       "       Total.Serious.Injuries  Total.Minor.Injuries  Total.Uninjured  \\\n",
       "88884                     1.0                   0.0              0.0   \n",
       "88885                     0.0                   0.0              0.0   \n",
       "88886                     0.0                   0.0              1.0   \n",
       "88887                     0.0                   0.0              0.0   \n",
       "88888                     1.0                   0.0              1.0   \n",
       "\n",
       "      Weather.Condition Broad.phase.of.flight Report.Status Publication.Date  \n",
       "88884               NaN                   NaN           NaN       29-12-2022  \n",
       "88885               NaN                   NaN           NaN              NaN  \n",
       "88886               VMC                   NaN           NaN       27-12-2022  \n",
       "88887               NaN                   NaN           NaN              NaN  \n",
       "88888               NaN                   NaN           NaN       30-12-2022  "
      ]
     },
     "execution_count": 6,
     "metadata": {},
     "output_type": "execute_result"
    }
   ],
   "source": [
    "#getting sample 5 rows\n",
    "ntsb_df.tail()"
   ]
  },
  {
   "cell_type": "code",
   "execution_count": 7,
   "id": "a45b5e1e",
   "metadata": {},
   "outputs": [
    {
     "name": "stdout",
     "output_type": "stream",
     "text": [
      "<class 'pandas.core.frame.DataFrame'>\n",
      "RangeIndex: 88889 entries, 0 to 88888\n",
      "Data columns (total 31 columns):\n",
      " #   Column                  Non-Null Count  Dtype  \n",
      "---  ------                  --------------  -----  \n",
      " 0   Event.Id                88889 non-null  object \n",
      " 1   Investigation.Type      88889 non-null  object \n",
      " 2   Accident.Number         88889 non-null  object \n",
      " 3   Event.Date              88889 non-null  object \n",
      " 4   Location                88837 non-null  object \n",
      " 5   Country                 88663 non-null  object \n",
      " 6   Latitude                34382 non-null  object \n",
      " 7   Longitude               34373 non-null  object \n",
      " 8   Airport.Code            50249 non-null  object \n",
      " 9   Airport.Name            52790 non-null  object \n",
      " 10  Injury.Severity         87889 non-null  object \n",
      " 11  Aircraft.damage         85695 non-null  object \n",
      " 12  Aircraft.Category       32287 non-null  object \n",
      " 13  Registration.Number     87572 non-null  object \n",
      " 14  Make                    88826 non-null  object \n",
      " 15  Model                   88797 non-null  object \n",
      " 16  Amateur.Built           88787 non-null  object \n",
      " 17  Number.of.Engines       82805 non-null  float64\n",
      " 18  Engine.Type             81812 non-null  object \n",
      " 19  FAR.Description         32023 non-null  object \n",
      " 20  Schedule                12582 non-null  object \n",
      " 21  Purpose.of.flight       82697 non-null  object \n",
      " 22  Air.carrier             16648 non-null  object \n",
      " 23  Total.Fatal.Injuries    77488 non-null  float64\n",
      " 24  Total.Serious.Injuries  76379 non-null  float64\n",
      " 25  Total.Minor.Injuries    76956 non-null  float64\n",
      " 26  Total.Uninjured         82977 non-null  float64\n",
      " 27  Weather.Condition       84397 non-null  object \n",
      " 28  Broad.phase.of.flight   61724 non-null  object \n",
      " 29  Report.Status           82508 non-null  object \n",
      " 30  Publication.Date        75118 non-null  object \n",
      "dtypes: float64(5), object(26)\n",
      "memory usage: 21.0+ MB\n"
     ]
    }
   ],
   "source": [
    "#checking data info\n",
    "ntsb_df.info()"
   ]
  },
  {
   "cell_type": "code",
   "execution_count": 8,
   "id": "484ddb5c",
   "metadata": {},
   "outputs": [
    {
     "data": {
      "text/html": [
       "<div>\n",
       "<style scoped>\n",
       "    .dataframe tbody tr th:only-of-type {\n",
       "        vertical-align: middle;\n",
       "    }\n",
       "\n",
       "    .dataframe tbody tr th {\n",
       "        vertical-align: top;\n",
       "    }\n",
       "\n",
       "    .dataframe thead th {\n",
       "        text-align: right;\n",
       "    }\n",
       "</style>\n",
       "<table border=\"1\" class=\"dataframe\">\n",
       "  <thead>\n",
       "    <tr style=\"text-align: right;\">\n",
       "      <th></th>\n",
       "      <th>Number.of.Engines</th>\n",
       "      <th>Total.Fatal.Injuries</th>\n",
       "      <th>Total.Serious.Injuries</th>\n",
       "      <th>Total.Minor.Injuries</th>\n",
       "      <th>Total.Uninjured</th>\n",
       "    </tr>\n",
       "  </thead>\n",
       "  <tbody>\n",
       "    <tr>\n",
       "      <th>count</th>\n",
       "      <td>82805.000000</td>\n",
       "      <td>77488.000000</td>\n",
       "      <td>76379.000000</td>\n",
       "      <td>76956.000000</td>\n",
       "      <td>82977.000000</td>\n",
       "    </tr>\n",
       "    <tr>\n",
       "      <th>mean</th>\n",
       "      <td>1.146585</td>\n",
       "      <td>0.647855</td>\n",
       "      <td>0.279881</td>\n",
       "      <td>0.357061</td>\n",
       "      <td>5.325440</td>\n",
       "    </tr>\n",
       "    <tr>\n",
       "      <th>std</th>\n",
       "      <td>0.446510</td>\n",
       "      <td>5.485960</td>\n",
       "      <td>1.544084</td>\n",
       "      <td>2.235625</td>\n",
       "      <td>27.913634</td>\n",
       "    </tr>\n",
       "    <tr>\n",
       "      <th>min</th>\n",
       "      <td>0.000000</td>\n",
       "      <td>0.000000</td>\n",
       "      <td>0.000000</td>\n",
       "      <td>0.000000</td>\n",
       "      <td>0.000000</td>\n",
       "    </tr>\n",
       "    <tr>\n",
       "      <th>25%</th>\n",
       "      <td>1.000000</td>\n",
       "      <td>0.000000</td>\n",
       "      <td>0.000000</td>\n",
       "      <td>0.000000</td>\n",
       "      <td>0.000000</td>\n",
       "    </tr>\n",
       "    <tr>\n",
       "      <th>50%</th>\n",
       "      <td>1.000000</td>\n",
       "      <td>0.000000</td>\n",
       "      <td>0.000000</td>\n",
       "      <td>0.000000</td>\n",
       "      <td>1.000000</td>\n",
       "    </tr>\n",
       "    <tr>\n",
       "      <th>75%</th>\n",
       "      <td>1.000000</td>\n",
       "      <td>0.000000</td>\n",
       "      <td>0.000000</td>\n",
       "      <td>0.000000</td>\n",
       "      <td>2.000000</td>\n",
       "    </tr>\n",
       "    <tr>\n",
       "      <th>max</th>\n",
       "      <td>8.000000</td>\n",
       "      <td>349.000000</td>\n",
       "      <td>161.000000</td>\n",
       "      <td>380.000000</td>\n",
       "      <td>699.000000</td>\n",
       "    </tr>\n",
       "  </tbody>\n",
       "</table>\n",
       "</div>"
      ],
      "text/plain": [
       "       Number.of.Engines  Total.Fatal.Injuries  Total.Serious.Injuries  \\\n",
       "count       82805.000000          77488.000000            76379.000000   \n",
       "mean            1.146585              0.647855                0.279881   \n",
       "std             0.446510              5.485960                1.544084   \n",
       "min             0.000000              0.000000                0.000000   \n",
       "25%             1.000000              0.000000                0.000000   \n",
       "50%             1.000000              0.000000                0.000000   \n",
       "75%             1.000000              0.000000                0.000000   \n",
       "max             8.000000            349.000000              161.000000   \n",
       "\n",
       "       Total.Minor.Injuries  Total.Uninjured  \n",
       "count          76956.000000     82977.000000  \n",
       "mean               0.357061         5.325440  \n",
       "std                2.235625        27.913634  \n",
       "min                0.000000         0.000000  \n",
       "25%                0.000000         0.000000  \n",
       "50%                0.000000         1.000000  \n",
       "75%                0.000000         2.000000  \n",
       "max              380.000000       699.000000  "
      ]
     },
     "execution_count": 8,
     "metadata": {},
     "output_type": "execute_result"
    }
   ],
   "source": [
    "#describing numerical columns\n",
    "ntsb_df.describe()"
   ]
  },
  {
   "cell_type": "code",
   "execution_count": 9,
   "id": "564562a5",
   "metadata": {},
   "outputs": [
    {
     "data": {
      "text/html": [
       "<div>\n",
       "<style scoped>\n",
       "    .dataframe tbody tr th:only-of-type {\n",
       "        vertical-align: middle;\n",
       "    }\n",
       "\n",
       "    .dataframe tbody tr th {\n",
       "        vertical-align: top;\n",
       "    }\n",
       "\n",
       "    .dataframe thead th {\n",
       "        text-align: right;\n",
       "    }\n",
       "</style>\n",
       "<table border=\"1\" class=\"dataframe\">\n",
       "  <thead>\n",
       "    <tr style=\"text-align: right;\">\n",
       "      <th></th>\n",
       "      <th>Event.Id</th>\n",
       "      <th>Investigation.Type</th>\n",
       "      <th>Accident.Number</th>\n",
       "      <th>Event.Date</th>\n",
       "      <th>Location</th>\n",
       "      <th>Country</th>\n",
       "      <th>Latitude</th>\n",
       "      <th>Longitude</th>\n",
       "      <th>Airport.Code</th>\n",
       "      <th>Airport.Name</th>\n",
       "      <th>Injury.Severity</th>\n",
       "      <th>Aircraft.damage</th>\n",
       "      <th>Aircraft.Category</th>\n",
       "      <th>Registration.Number</th>\n",
       "      <th>Make</th>\n",
       "      <th>Model</th>\n",
       "      <th>Amateur.Built</th>\n",
       "      <th>Engine.Type</th>\n",
       "      <th>FAR.Description</th>\n",
       "      <th>Schedule</th>\n",
       "      <th>Purpose.of.flight</th>\n",
       "      <th>Air.carrier</th>\n",
       "      <th>Weather.Condition</th>\n",
       "      <th>Broad.phase.of.flight</th>\n",
       "      <th>Report.Status</th>\n",
       "      <th>Publication.Date</th>\n",
       "    </tr>\n",
       "  </thead>\n",
       "  <tbody>\n",
       "    <tr>\n",
       "      <th>count</th>\n",
       "      <td>88889</td>\n",
       "      <td>88889</td>\n",
       "      <td>88889</td>\n",
       "      <td>88889</td>\n",
       "      <td>88837</td>\n",
       "      <td>88663</td>\n",
       "      <td>34382</td>\n",
       "      <td>34373</td>\n",
       "      <td>50249</td>\n",
       "      <td>52790</td>\n",
       "      <td>87889</td>\n",
       "      <td>85695</td>\n",
       "      <td>32287</td>\n",
       "      <td>87572</td>\n",
       "      <td>88826</td>\n",
       "      <td>88797</td>\n",
       "      <td>88787</td>\n",
       "      <td>81812</td>\n",
       "      <td>32023</td>\n",
       "      <td>12582</td>\n",
       "      <td>82697</td>\n",
       "      <td>16648</td>\n",
       "      <td>84397</td>\n",
       "      <td>61724</td>\n",
       "      <td>82508</td>\n",
       "      <td>75118</td>\n",
       "    </tr>\n",
       "    <tr>\n",
       "      <th>unique</th>\n",
       "      <td>87951</td>\n",
       "      <td>2</td>\n",
       "      <td>88863</td>\n",
       "      <td>14782</td>\n",
       "      <td>27758</td>\n",
       "      <td>219</td>\n",
       "      <td>25592</td>\n",
       "      <td>27156</td>\n",
       "      <td>10375</td>\n",
       "      <td>24871</td>\n",
       "      <td>109</td>\n",
       "      <td>4</td>\n",
       "      <td>15</td>\n",
       "      <td>79105</td>\n",
       "      <td>8237</td>\n",
       "      <td>12318</td>\n",
       "      <td>2</td>\n",
       "      <td>13</td>\n",
       "      <td>31</td>\n",
       "      <td>3</td>\n",
       "      <td>26</td>\n",
       "      <td>13590</td>\n",
       "      <td>4</td>\n",
       "      <td>12</td>\n",
       "      <td>17075</td>\n",
       "      <td>2924</td>\n",
       "    </tr>\n",
       "    <tr>\n",
       "      <th>top</th>\n",
       "      <td>20001212X19172</td>\n",
       "      <td>Accident</td>\n",
       "      <td>CEN22LA149</td>\n",
       "      <td>1984-06-30</td>\n",
       "      <td>ANCHORAGE, AK</td>\n",
       "      <td>United States</td>\n",
       "      <td>332739N</td>\n",
       "      <td>0112457W</td>\n",
       "      <td>NONE</td>\n",
       "      <td>Private</td>\n",
       "      <td>Non-Fatal</td>\n",
       "      <td>Substantial</td>\n",
       "      <td>Airplane</td>\n",
       "      <td>NONE</td>\n",
       "      <td>Cessna</td>\n",
       "      <td>152</td>\n",
       "      <td>No</td>\n",
       "      <td>Reciprocating</td>\n",
       "      <td>091</td>\n",
       "      <td>NSCH</td>\n",
       "      <td>Personal</td>\n",
       "      <td>Pilot</td>\n",
       "      <td>VMC</td>\n",
       "      <td>Landing</td>\n",
       "      <td>Probable Cause</td>\n",
       "      <td>25-09-2020</td>\n",
       "    </tr>\n",
       "    <tr>\n",
       "      <th>freq</th>\n",
       "      <td>3</td>\n",
       "      <td>85015</td>\n",
       "      <td>2</td>\n",
       "      <td>25</td>\n",
       "      <td>434</td>\n",
       "      <td>82248</td>\n",
       "      <td>19</td>\n",
       "      <td>24</td>\n",
       "      <td>1488</td>\n",
       "      <td>240</td>\n",
       "      <td>67357</td>\n",
       "      <td>64148</td>\n",
       "      <td>27617</td>\n",
       "      <td>344</td>\n",
       "      <td>22227</td>\n",
       "      <td>2367</td>\n",
       "      <td>80312</td>\n",
       "      <td>69530</td>\n",
       "      <td>18221</td>\n",
       "      <td>4474</td>\n",
       "      <td>49448</td>\n",
       "      <td>258</td>\n",
       "      <td>77303</td>\n",
       "      <td>15428</td>\n",
       "      <td>61754</td>\n",
       "      <td>17019</td>\n",
       "    </tr>\n",
       "  </tbody>\n",
       "</table>\n",
       "</div>"
      ],
      "text/plain": [
       "              Event.Id Investigation.Type Accident.Number  Event.Date  \\\n",
       "count            88889              88889           88889       88889   \n",
       "unique           87951                  2           88863       14782   \n",
       "top     20001212X19172           Accident      CEN22LA149  1984-06-30   \n",
       "freq                 3              85015               2          25   \n",
       "\n",
       "             Location        Country Latitude Longitude Airport.Code  \\\n",
       "count           88837          88663    34382     34373        50249   \n",
       "unique          27758            219    25592     27156        10375   \n",
       "top     ANCHORAGE, AK  United States  332739N  0112457W         NONE   \n",
       "freq              434          82248       19        24         1488   \n",
       "\n",
       "       Airport.Name Injury.Severity Aircraft.damage Aircraft.Category  \\\n",
       "count         52790           87889           85695             32287   \n",
       "unique        24871             109               4                15   \n",
       "top         Private       Non-Fatal     Substantial          Airplane   \n",
       "freq            240           67357           64148             27617   \n",
       "\n",
       "       Registration.Number    Make  Model Amateur.Built    Engine.Type  \\\n",
       "count                87572   88826  88797         88787          81812   \n",
       "unique               79105    8237  12318             2             13   \n",
       "top                   NONE  Cessna    152            No  Reciprocating   \n",
       "freq                   344   22227   2367         80312          69530   \n",
       "\n",
       "       FAR.Description Schedule Purpose.of.flight Air.carrier  \\\n",
       "count            32023    12582             82697       16648   \n",
       "unique              31        3                26       13590   \n",
       "top                091     NSCH          Personal       Pilot   \n",
       "freq             18221     4474             49448         258   \n",
       "\n",
       "       Weather.Condition Broad.phase.of.flight   Report.Status  \\\n",
       "count              84397                 61724           82508   \n",
       "unique                 4                    12           17075   \n",
       "top                  VMC               Landing  Probable Cause   \n",
       "freq               77303                 15428           61754   \n",
       "\n",
       "       Publication.Date  \n",
       "count             75118  \n",
       "unique             2924  \n",
       "top          25-09-2020  \n",
       "freq              17019  "
      ]
     },
     "execution_count": 9,
     "metadata": {},
     "output_type": "execute_result"
    }
   ],
   "source": [
    "#describing numerical columns\n",
    "ntsb_df.describe(include='O')"
   ]
  },
  {
   "cell_type": "code",
   "execution_count": 10,
   "id": "522ed0ca",
   "metadata": {},
   "outputs": [
    {
     "data": {
      "text/plain": [
       "(88889, 31)"
      ]
     },
     "execution_count": 10,
     "metadata": {},
     "output_type": "execute_result"
    }
   ],
   "source": [
    "# Checking shape of ntsb_df\n",
    "ntsb_df.shape"
   ]
  },
  {
   "cell_type": "code",
   "execution_count": 11,
   "id": "8d2bd048",
   "metadata": {},
   "outputs": [],
   "source": [
    "#filtering top 30 Make\n",
    "Make_df = ntsb_df.Make.value_counts().reset_index().iloc[:10] \n",
    "ntsb_df = ntsb_df[ntsb_df.Make.isin(Make_df['index'])]"
   ]
  },
  {
   "cell_type": "code",
   "execution_count": 12,
   "id": "16dbe4d9",
   "metadata": {},
   "outputs": [
    {
     "data": {
      "text/plain": [
       "(53414, 31)"
      ]
     },
     "execution_count": 12,
     "metadata": {},
     "output_type": "execute_result"
    }
   ],
   "source": [
    "ntsb_df.shape"
   ]
  },
  {
   "cell_type": "markdown",
   "id": "73ab1793",
   "metadata": {},
   "source": [
    "# Data Preparation\n",
    "## Cleaning\n",
    "<ol>\n",
    "    <li>Changing Columns Data Types and/or Values</li>\n",
    "    <li>Filling Missing Values</li>\n",
    "    <li>Checking for Outliers</li>\n",
    "    <li>Checking duplicates</li>\n",
    "</ol>"
   ]
  },
  {
   "cell_type": "code",
   "execution_count": 13,
   "id": "d3c2721b",
   "metadata": {
    "scrolled": true
   },
   "outputs": [
    {
     "data": {
      "text/plain": [
       "Index(['Event.Id', 'Investigation.Type', 'Accident.Number', 'Event.Date',\n",
       "       'Location', 'Country', 'Latitude', 'Longitude', 'Airport.Code',\n",
       "       'Airport.Name', 'Injury.Severity', 'Aircraft.damage',\n",
       "       'Aircraft.Category', 'Registration.Number', 'Make', 'Model',\n",
       "       'Amateur.Built', 'Number.of.Engines', 'Engine.Type', 'FAR.Description',\n",
       "       'Schedule', 'Purpose.of.flight', 'Air.carrier', 'Total.Fatal.Injuries',\n",
       "       'Total.Serious.Injuries', 'Total.Minor.Injuries', 'Total.Uninjured',\n",
       "       'Weather.Condition', 'Broad.phase.of.flight', 'Report.Status',\n",
       "       'Publication.Date'],\n",
       "      dtype='object')"
      ]
     },
     "execution_count": 13,
     "metadata": {},
     "output_type": "execute_result"
    }
   ],
   "source": [
    "ntsb_df.columns"
   ]
  },
  {
   "cell_type": "code",
   "execution_count": 14,
   "id": "5625ceb8",
   "metadata": {},
   "outputs": [
    {
     "name": "stderr",
     "output_type": "stream",
     "text": [
      "C:\\Users\\Mich\\AppData\\Local\\Temp/ipykernel_31068/257064276.py:3: FutureWarning: The default value of regex will change from True to False in a future version. In addition, single character regular expressions will *not* be treated as literal strings when regex=True.\n",
      "  ntsb_df.columns = ntsb_df.columns.str.replace(\".\",\"_\")\n"
     ]
    },
    {
     "data": {
      "text/plain": [
       "Index(['event_id', 'investigation_type', 'accident_number', 'event_date',\n",
       "       'location', 'country', 'latitude', 'longitude', 'airport_code',\n",
       "       'airport_name', 'injury_severity', 'aircraft_damage',\n",
       "       'aircraft_category', 'registration_number', 'make', 'model',\n",
       "       'amateur_built', 'number_of_engines', 'engine_type', 'far_description',\n",
       "       'schedule', 'purpose_of_flight', 'air_carrier', 'total_fatal_injuries',\n",
       "       'total_serious_injuries', 'total_minor_injuries', 'total_uninjured',\n",
       "       'weather_condition', 'broad_phase_of_flight', 'report_status',\n",
       "       'publication_date'],\n",
       "      dtype='object')"
      ]
     },
     "execution_count": 14,
     "metadata": {},
     "output_type": "execute_result"
    }
   ],
   "source": [
    "#Changing columns name by replace . with _ and lowercasing\n",
    "ntsb_df.columns = ntsb_df.columns.str.lower()\n",
    "ntsb_df.columns = ntsb_df.columns.str.replace(\".\",\"_\")\n",
    "ntsb_df.columns"
   ]
  },
  {
   "cell_type": "code",
   "execution_count": 15,
   "id": "95871651",
   "metadata": {},
   "outputs": [
    {
     "name": "stdout",
     "output_type": "stream",
     "text": [
      "event_id | No of unique = 52978\n",
      "['20001218X45447' '20061025X01555' '20041105X01764' ... '20221227106491'\n",
      " '20221227106498' '20221230106513']\n",
      "\n",
      "investigation_type | No of unique = 2\n",
      "['Accident' 'Incident']\n",
      "\n",
      "accident_number | No of unique = 53406\n",
      "['LAX94LA336' 'NYC07LA005' 'CHI79FA064' ... 'ERA23LA093' 'WPR23LA076'\n",
      " 'ERA23LA097']\n",
      "\n",
      "event_date | No of unique = 13807\n",
      "['1962-07-19' '1974-08-30' '1979-08-02' ... '2022-12-21' '2022-12-26'\n",
      " '2022-12-29']\n",
      "\n",
      "location | No of unique = 19028\n",
      "['BRIDGEPORT, CA' 'Saltville, VA' 'Canton, OH' ...\n",
      " 'Happy Valley-Goose Bay, OF' 'San Manual, AZ' 'Auburn Hills, MI']\n",
      "\n",
      "country | No of unique = 195\n",
      "['United States' nan 'GULF OF MEXICO' 'Puerto Rico' 'ATLANTIC OCEAN'\n",
      " 'HIGH ISLAND' 'Bahamas' 'MISSING' 'Pakistan' 'Germany'\n",
      " 'Korea, Republic Of' 'Martinique' 'PACIFIC OCEAN' 'Bolivia' 'Mexico'\n",
      " 'Dominica' 'Netherlands Antilles' 'Iceland' 'Greece' 'Guam' 'Australia'\n",
      " 'CARIBBEAN SEA' 'West Indies' 'Japan' 'Canada' 'Philippines' 'Venezuela'\n",
      " 'Colombia' 'United Kingdom' 'British Virgin Islands' 'Netherlands'\n",
      " 'Costa Rica' 'Jamaica' 'Panama' 'Guyana' 'Hong Kong' 'Portugal'\n",
      " 'Malaysia' 'Turks And Caicos Islands' 'Dominican Republic' 'Angola'\n",
      " 'Honduras' 'Congo' 'Belize' 'Anguilla' 'St Vincent And The Grenadines'\n",
      " 'Haiti' 'American Samoa' 'Montserrat' 'Cayman Islands'\n",
      " 'Northern Mariana Islands' 'Taiwan' 'Barbados' 'BLOCK 651A' 'Brazil'\n",
      " 'France' 'Mauritius' 'Argentina' 'Ecuador' 'Aruba' 'Saudi Arabia' 'Italy'\n",
      " 'Guatemala' 'Denmark' 'Sudan' 'Federated States Of Micronesia'\n",
      " 'Switzerland' 'Spain' 'Algeria' 'Turkey' 'Nicaragua' 'Marshall Islands'\n",
      " 'El Salvador' 'Trinidad And Tobago' 'Poland' 'Austria' 'Malta' 'Cameroon'\n",
      " 'Solomon Islands' 'Zambia' 'Cuba' 'Peru' 'Croatia' 'Fiji' 'South Africa'\n",
      " 'India' 'Kenya' 'Ethiopia' 'Chile' 'Antigua And Barbuda'\n",
      " 'Central African Republic' 'Sweden' 'Cambodia' 'China' 'Paraguay'\n",
      " 'Gambia' 'Mali' 'Uruguay' 'Indonesia' 'Belgium' 'Kazakhstan' 'Egypt'\n",
      " 'Cyprus' \"Cote D'ivoire\" 'Nigeria' 'Greenland' 'Vietnam' 'New Zealand'\n",
      " 'Tanzania' 'Mozambique' 'Norway' 'Ghana' 'Gabon' 'Nepal' 'Slovakia'\n",
      " 'Liberia' 'Thailand' 'Maldives' 'Zimbabwe' 'Botswana' 'Russia' 'Ireland'\n",
      " 'Niger' 'Uganda' 'Romania' 'Guadeloupe' 'Finland' 'Tunisia' 'Eritrea'\n",
      " 'Gibraltar' 'Suriname' 'Namibia' 'Antarctica' 'Czech Republic'\n",
      " 'Singapore' 'Benin' 'Bosnia And Herzegovina' 'Sierra Leone' 'Reunion'\n",
      " 'United Arab Emirates' 'Afghanistan' 'Morocco' 'Iraq' 'Jordan' 'Hungary'\n",
      " 'Qatar' 'Madagascar' 'Estonia' 'Malawi' 'Israel' 'Ukraine' 'Bangladesh'\n",
      " 'Senegal' 'South Sudan' 'Central Africa' 'Micronesia' 'Kyrgyzstan'\n",
      " 'Turks And Caicos' 'Latvia' 'Saint Barthelemy' 'Macao' 'Seychelles'\n",
      " 'Papua New Guinea' 'Palau' 'Luxembourg' 'Lebanon' 'Bahrain' 'South Korea'\n",
      " 'Saint Vincent and the Grenadines' 'Eswatini' 'Iran' 'Lithuania'\n",
      " 'Bosnia and Herzegovina' 'UN' 'Tokelau' 'Nauru' 'Sint Maarten' 'Niue'\n",
      " 'Slovenia' 'Bulgaria' 'Republic of North Macedonia' 'Virgin Islands'\n",
      " 'Guinea' 'Obyan' 'Albania' 'New Caledonia' 'Rwanda' 'Somalia'\n",
      " 'Saint Pierre and Miquelon' 'Georgia' \"Côte d'Ivoire\" 'French Polynesia'\n",
      " 'MU' 'Great Britain' 'South Korean' 'Turks and Caicos Islands']\n",
      "\n",
      "latitude | No of unique = 13661\n",
      "[nan 36.922223 30.757778 ... '027347N' '046936N' '321814N']\n",
      "\n",
      "longitude | No of unique = 14057\n",
      "[nan -81.878056 -88.355555 ... '0832534W' '0835218W' '0822719W']\n",
      "\n",
      "airport_code | No of unique = 7936\n",
      "[nan 'N58' 'T72' ... '8F6' 'SKMD' 'OMAA']\n",
      "\n",
      "airport_name | No of unique = 17487\n",
      "[nan 'BLACKBURN AG STRIP' 'HANOVER' ... 'Fergus Falls Municipal Airport'\n",
      " 'HAWKINSVILLE-PULASKI COUNTY' 'Lewiston Municipal Airport']\n",
      "\n",
      "injury_severity | No of unique = 78\n",
      "['Fatal(4)' 'Fatal(3)' 'Fatal(1)' 'Non-Fatal' 'Fatal(2)' 'Incident'\n",
      " 'Fatal(8)' 'Fatal(78)' 'Fatal(6)' 'Fatal(5)' 'Fatal(7)' 'Fatal(153)'\n",
      " 'Fatal(14)' 'Fatal(10)' 'Fatal(17)' 'Fatal(29)' 'Fatal(9)' 'Unavailable'\n",
      " 'Fatal(25)' 'Fatal(82)' 'Fatal(18)' 'Fatal(270)' 'Fatal(144)' 'Fatal(11)'\n",
      " 'Fatal(131)' 'Fatal(73)' 'Fatal(34)' 'Fatal(13)' 'Fatal(47)' 'Fatal(12)'\n",
      " 'Fatal(132)' 'Fatal(54)' 'Fatal(65)' 'Fatal(72)' 'Fatal(20)' 'Fatal(160)'\n",
      " 'Fatal(189)' 'Fatal(123)' 'Fatal(33)' 'Fatal(230)' 'Fatal(70)'\n",
      " 'Fatal(349)' 'Fatal(125)' 'Fatal(35)' 'Fatal(228)' 'Fatal(97)'\n",
      " 'Fatal(52)' 'Fatal(87)' 'Fatal(15)' 'Fatal(16)' 'Fatal(80)' 'Fatal(217)'\n",
      " 'Fatal(60)' 'Fatal(83)' 'Fatal(44)' 'Fatal(64)' 'Fatal(92)' 'Fatal(118)'\n",
      " 'Fatal(138)' 'Fatal(206)' 'Fatal(71)' 'Fatal(23)' 'Fatal(21)'\n",
      " 'Fatal(102)' 'Fatal(115)' 'Fatal(141)' 'Fatal(104)' 'Fatal(121)'\n",
      " 'Fatal(45)' 'Fatal(145)' 'Fatal(117)' 'Fatal(154)' 'Fatal(96)'\n",
      " 'Fatal(114)' 'Fatal(89)' nan 'Fatal' 'Minor' 'Serious']\n",
      "\n",
      "aircraft_damage | No of unique = 4\n",
      "['Destroyed' 'Substantial' 'Minor' nan 'Unknown']\n",
      "\n",
      "aircraft_category | No of unique = 3\n",
      "[nan 'Airplane' 'Helicopter' 'Powered-Lift']\n",
      "\n",
      "registration_number | No of unique = 48327\n",
      "['N5069P' 'N5142R' 'N15NY' ... 'N1867H' 'N210CU' 'N9026P']\n",
      "\n",
      "make | No of unique = 10\n",
      "['Piper' 'Cessna' 'Beech' 'Bell' 'Grumman' 'Mooney' 'Boeing' 'PIPER'\n",
      " 'CESSNA' 'BOEING']\n",
      "\n",
      "model | No of unique = 2968\n",
      "['PA24-180' '172M' '501' ... 'J3F-60' 'T206G' '737-8']\n",
      "\n",
      "amateur_built | No of unique = 2\n",
      "['No' 'Yes' nan]\n",
      "\n",
      "number_of_engines | No of unique = 5\n",
      "[ 1. nan  2.  3.  4.  0.]\n",
      "\n",
      "engine_type | No of unique = 7\n",
      "['Reciprocating' nan 'Turbo Shaft' 'Turbo Fan' 'Turbo Prop' 'Turbo Jet'\n",
      " 'Unknown' 'UNK']\n",
      "\n",
      "far_description | No of unique = 25\n",
      "[nan 'Part 91: General Aviation' 'Part 135: Air Taxi & Commuter'\n",
      " 'Part 137: Agricultural' 'Part 133: Rotorcraft Ext. Load'\n",
      " 'Part 121: Air Carrier' 'Part 129: Foreign' 'Unknown'\n",
      " 'Non-U.S., Non-Commercial' 'Public Aircraft' 'Non-U.S., Commercial'\n",
      " 'Part 125: 20+ Pax,6000+ lbs' 'Public Use' '091' 'NUSC' '135' 'NUSN'\n",
      " '121' '137' '129' '091K' 'UNK' 'PUBU' 'ARMF' '125' '133']\n",
      "\n",
      "schedule | No of unique = 3\n",
      "[nan 'NSCH' 'SCHD' 'UNK']\n",
      "\n",
      "purpose_of_flight | No of unique = 25\n",
      "['Personal' 'Business' 'Instructional' 'Unknown' 'Ferry'\n",
      " 'Executive/corporate' 'Aerial Observation' 'Aerial Application' nan\n",
      " 'Public Aircraft' 'Skydiving' 'Positioning' 'Other Work Use'\n",
      " 'Flight Test' 'Air Drop' 'Air Race/show' 'Public Aircraft - Federal'\n",
      " 'Glider Tow' 'Public Aircraft - Local' 'External Load' 'Banner Tow'\n",
      " 'Public Aircraft - State' 'Firefighting' 'Air Race show' 'PUBS' 'ASHO']\n",
      "\n",
      "air_carrier | No of unique = 6546\n",
      "[nan 'Rocky Mountain Helicopters, In' 'Lang Air Service' ...\n",
      " 'Sierra Bravo Partnership' 'GERBER RICHARD E' 'MC CESSNA 210N LLC']\n",
      "\n",
      "total_fatal_injuries | No of unique = 86\n",
      "[  4.   3.   1.   0.   2.   8.  78.  nan   6.   5.   7. 153.  14.  10.\n",
      "  17.  29.   9.  25.  82.  18. 270. 144.  11. 131.  73.  34.  13.  47.\n",
      "  12. 132.  54.  65.  72.  20. 160. 189. 123.  33. 230.  70. 349. 125.\n",
      "  35. 228.  97.  52.  87.  15.  16.  80. 217.  60.  83.  44.  64.  92.\n",
      " 118. 138. 206.  71.  23.  21. 102. 115. 141. 104. 121.  45. 145. 117.\n",
      " 154.  96. 114.  89.  88.  90. 158.  77. 127.  50. 239. 295.  62. 112.\n",
      " 188. 157. 176.]\n",
      "\n",
      "total_serious_injuries | No of unique = 36\n",
      "[  0.  nan   2.   1.   6.   5.   4.   3.   9.   7.  17.  26.  14.  81.\n",
      "  10.  13.   8.  21.  50.  44.  18.  39.  28.  12.  25.  55.  88.  41.\n",
      "  11.  34.  53.  33.  67.  20. 137. 125. 161.]\n",
      "\n",
      "total_minor_injuries | No of unique = 42\n",
      "[  0.  nan   1.   2.   4.   3.   5.   6.  33.  15.   7.   9.  12.  38.\n",
      "  42.  62.  16.   8.  31.  10.  11.  24.  57.  13.  50.  18.  25.  26.\n",
      "  17.  36.  21.  22. 171.  23.  14.  71.  68. 380.  32.  20.  35.  27.\n",
      "  19.]\n",
      "\n",
      "total_uninjured | No of unique = 351\n",
      "[  0.  nan   2.   1.   3.   4.   5.  10. 119.  51.   6.  83.   7.   9.\n",
      " 108.  11.  68.   8.  29.  74. 129. 102. 128.  20. 112.  67.  23. 116.\n",
      "  21.  57.  58.  73.  36. 412. 159. 588.  82.  95.  44. 190.  13.  52.\n",
      "  25.  59. 150. 133. 145. 125. 440.  65.  19. 245. 205. 110.  66.  87.\n",
      " 104. 100. 158. 127.  38. 165. 495.  81. 152.  14.  22.  41.  77. 263.\n",
      "  27. 105. 121.  75.  71.  45.  91. 172.  47.  30.  50. 365. 371.  99.\n",
      "  86. 107.  61. 271. 130.  89. 439. 132.  53.  43.  96.  78. 118. 507.\n",
      " 421.  90. 111. 269. 131. 138. 224. 134. 331. 140.  94. 192. 161. 113.\n",
      "  69. 436. 115.  85. 188. 201. 167.  93.  98. 148. 222.  92.  48. 375.\n",
      " 109. 142.  72. 123.  32. 408. 363. 135. 528.  46. 334. 178.  62.  70.\n",
      "  97. 147. 226.  12. 200. 151.  18.  16. 297. 349.  17.  26. 208. 144.\n",
      " 106. 258. 304. 274. 286. 157.  55. 221.  84.  39.  80. 211.  15. 220.\n",
      " 441.  33. 194. 309. 261. 219. 241. 383.  54. 149. 156.  40. 176.  63.\n",
      " 320.  49. 154.  76.  37.  31. 272. 124. 298. 120. 136. 280. 234. 461.\n",
      " 153. 195.  88. 361. 277. 191. 187. 215. 101. 197. 193. 164. 370. 387.\n",
      " 169. 250. 163. 189.  28. 357. 288. 126. 114. 162. 300. 255. 306. 443.\n",
      " 385. 459. 139.  79. 202. 414. 186. 229. 122. 184. 168. 180. 198. 299.\n",
      "  56. 573. 322. 196. 213. 203. 177. 399. 360. 217. 155.  24. 227. 249.\n",
      " 329. 160. 340. 699. 325. 287. 141. 171. 175. 173. 179. 185. 143.  42.\n",
      " 225. 117. 230. 206. 386. 137. 181. 199. 283. 103. 404.  60. 319. 450.\n",
      " 356. 290. 216. 558. 214. 448. 338. 243. 273. 170. 146. 232. 401. 253.\n",
      " 183. 312. 368. 282. 501. 237. 307. 296. 166. 403. 244. 314. 285. 311.\n",
      " 352. 257. 332. 384. 275. 210. 235. 231. 209. 236. 239. 268. 326. 246.\n",
      " 278.  35. 380. 182. 394. 279. 252. 362. 259. 262. 174. 223. 333. 248.\n",
      " 367. 302. 348. 351. 358. 218. 295. 321. 378.  34. 207. 406. 251. 455.\n",
      " 276. 233.]\n",
      "\n",
      "weather_condition | No of unique = 4\n",
      "['UNK' 'IMC' 'VMC' nan 'Unk']\n",
      "\n",
      "broad_phase_of_flight | No of unique = 12\n",
      "['Unknown' 'Cruise' 'Approach' 'Takeoff' 'Landing' 'Taxi' 'Descent'\n",
      " 'Climb' 'Go-around' 'Other' 'Maneuvering' 'Standing' nan]\n",
      "\n",
      "report_status | No of unique = 7427\n",
      "['Probable Cause' 'Foreign' 'Factual' ...\n",
      " 'The pilot\\x92s loss of control while landing resulting in a runway excursion and ground loop.\\r'\n",
      " 'The pilot\\x92s failure to maintain control of the airplane while landing.'\n",
      " 'An in-flight collision with a bird while on approach.']\n",
      "\n",
      "publication_date | No of unique = 2368\n",
      "['19-09-1996' '26-02-2007' '16-04-1980' ... '12-12-2022' '23-12-2022'\n",
      " '29-12-2022']\n",
      "\n"
     ]
    }
   ],
   "source": [
    "#checking columns\n",
    "for col in ntsb_df.columns:\n",
    "    #unique values and no of unique values\n",
    "    unique_val = str(ntsb_df[col].unique())\n",
    "    no_unique_val = str(ntsb_df[col].nunique())\n",
    "    \n",
    "    print(col + \" | No of unique = \"+ no_unique_val +\"\\n\" +unique_val+\"\\n\")"
   ]
  },
  {
   "cell_type": "code",
   "execution_count": 16,
   "id": "32a49629",
   "metadata": {},
   "outputs": [
    {
     "name": "stdout",
     "output_type": "stream",
     "text": [
      "airport_name\n",
      " No of similar values 1985\n",
      "Sample Values\n",
      "['WEBSTER', 'AERO ACRES', 'BLOWING ROCK', 'MANHATTAN MUNICIPAL', 'ISLEBORO', 'SALEM-LECKRONE', 'CHEFORNAK', 'NEW BEDFORD REGIONAL APT.', 'HASTON RANCH', 'SCOTTSDALE MUNI', \"Bolingbrook's Clow Int'l\", 'TALKEETNA VILLAGE STRIP', 'KTSAP', 'GOODNEWS', 'SCHAUMBURG']\n",
      "registration_number\n",
      " No of similar values 7\n",
      "Sample Values\n",
      "['N5929t', 'N5759t', 'N738Ej', 'Ex-009', 'N29cf', 'N2242r', 'N2995v', 'Vh-XMO', 'unknown', 'N5464n', 'N7821k', 'None', 'none', 'N9133m', 'N4418c']\n",
      "weather_condition\n",
      " No of similar values 1\n",
      "Sample Values\n",
      "['Unk']\n",
      "air_carrier\n",
      " No of similar values 150\n",
      "Sample Values\n",
      "['Sierra Academy of Aeronautics', 'LORRING DAVID W', 'Ascent Aviation LLC', 'B & M Enterprises, Inc. (dba: New Mexico Flying Service)', 'Al Merrill (dba: Anuenue Aviation)', '9487W LLC', 'Exclusive Jets LLC', 'FRESQUEZ RONALD R', 'HANSON LYLE', 'Denver Air Center (dba: Skycab)', 'WARBELOWS AIR VENTURES INC', 'GARRISON RONALD L', 'CULWELL CHARLES W DBA', 'CARL W. FUNDEEN', 'COAST FLIGHT TRAINING AND MANAGEMENT INC']\n",
      "airport_code\n",
      " No of similar values 19\n",
      "Sample Values\n",
      "['psp', 'spcl', 'none', 'cdw', 'cdg', 'na', 'cxl', 'fxe', 'Priv', '14ak', 'pbi', 'xxx', '55m', 'ipl', 'Hot']\n",
      "longitude\n",
      " No of similar values 5\n",
      "Sample Values\n",
      "[-88.355555, -85.663611, -81.878056, -113.8875, -173.24]\n",
      "model\n",
      " No of similar values 7\n",
      "Sample Values\n",
      "['A185F-II', '182-RG', 'T-34B MENTOR', 'PA-30B-160', 'A36TC', '412EP', 'J5 CUB', 'BE-80', 'PA-31T', 'Gulfstream III', 'PA28-201T', 'PA-602P', '172PII', 'E75 (PT-13D)', 'PA-24-260B']\n",
      "make\n",
      " No of similar values 3\n",
      "Sample Values\n",
      "['BOEING', 'PIPER', 'CESSNA']\n",
      "location\n",
      " No of similar values 3442\n",
      "Sample Values\n",
      "['REDMOND, OR', 'Columbus, OH', 'KagawaPrefectur, Japan', 'COVINGTON, KY', 'LaVerne, CA', 'VENCIE, LA', 'FORT WASHINGTON, MD', 'FT. BRIDGER, WY', 'SAN DIEGO, CA', 'NORCATUR, KS', 'BELLAIRE, MI', 'BOOTHBAY HARBOR, ME', 'WHT SULPHUR SPG, MT', 'HORSE CREEK, WY', 'Silverton, TX']\n"
     ]
    }
   ],
   "source": [
    "#Fixing values which are written in different cases\n",
    "for col in set(ntsb_df.select_dtypes(include = ['O'])):\n",
    "    #original values contained within a column\n",
    "    org_unique_val = set(ntsb_df[col].unique())\n",
    "    no_org_unique_val = ntsb_df[col].nunique()\n",
    "    \n",
    "    if col in ['location','engine_type','make','model','airport_name','air_carrier']:\n",
    "        ntsb_df[col] = ntsb_df[col].str.title()\n",
    "    elif col in ['weather_condition','airport_code','longitude','registration_number']:\n",
    "        ntsb_df[col] = ntsb_df[col].str.upper()\n",
    "        \n",
    "    #Values contained within a column after formatting(capitalizing/titling)\n",
    "    no_fmr_unique_val =  ntsb_df[col].nunique()\n",
    "    \n",
    "    #check the value of difference before any computation\n",
    "    diff = no_org_unique_val - no_fmr_unique_val\n",
    "    \n",
    "    if diff > 0:\n",
    "        fmr_unique_val =  set(ntsb_df[col].unique())\n",
    "        #difference btw values\n",
    "        print(col+\"\\n No of similar values \" + str(no_org_unique_val- no_fmr_unique_val))\n",
    "        #to check the similar values \n",
    "        print( \"Sample Values\\n\"+str(list(org_unique_val - fmr_unique_val)[:15]))\n",
    "    "
   ]
  },
  {
   "cell_type": "code",
   "execution_count": 17,
   "id": "2e44a6d3",
   "metadata": {},
   "outputs": [
    {
     "name": "stdout",
     "output_type": "stream",
     "text": [
      "Similar values = 0\n"
     ]
    }
   ],
   "source": [
    "#Checking if there is any similar values after the manipulation\n",
    "total_diff = 0\n",
    "for col in set(ntsb_df.select_dtypes(include = ['O'])):\n",
    "    #original values contained within a column\n",
    "    no_org_unique_val = ntsb_df[col].nunique()\n",
    "    \n",
    "    if col in ['Location','Engine.Type','Make','Airport.Name','Air.carrier']:\n",
    "        ntsb_df[col] = ntsb_df[col].str.title()\n",
    "    elif col in ['Weather.Condition','Airport.Code','Longitude','Registration.Number']:\n",
    "        ntsb_df[col] = ntsb_df[col].str.upper()\n",
    "        \n",
    "    #Values contained within a column after formatting(capitalizing/titling) \n",
    "    no_fmr_unique_val =  ntsb_df[col].nunique()\n",
    "    \n",
    "    #check the value of difference before any computation\n",
    "    diff = no_org_unique_val - no_fmr_unique_val\n",
    "    \n",
    "    total_diff+=diff\n",
    "    \n",
    "print(\"Similar values = \"+str(total_diff))"
   ]
  },
  {
   "cell_type": "code",
   "execution_count": 18,
   "id": "08940f42",
   "metadata": {},
   "outputs": [
    {
     "data": {
      "text/plain": [
       "event_id                      0\n",
       "investigation_type            0\n",
       "accident_number               0\n",
       "event_date                    0\n",
       "location                     37\n",
       "country                     155\n",
       "latitude                  36741\n",
       "longitude                 36746\n",
       "airport_code              22176\n",
       "airport_name              20463\n",
       "injury_severity             581\n",
       "aircraft_damage            1595\n",
       "aircraft_category         37533\n",
       "registration_number         819\n",
       "make                          0\n",
       "model                        12\n",
       "amateur_built                65\n",
       "number_of_engines          2726\n",
       "engine_type                3198\n",
       "far_description           37631\n",
       "schedule                  46330\n",
       "purpose_of_flight          3167\n",
       "air_carrier               45462\n",
       "total_fatal_injuries       6706\n",
       "total_serious_injuries     7519\n",
       "total_minor_injuries       7136\n",
       "total_uninjured            3280\n",
       "weather_condition          2287\n",
       "broad_phase_of_flight     12484\n",
       "report_status              2993\n",
       "publication_date           9532\n",
       "dtype: int64"
      ]
     },
     "execution_count": 18,
     "metadata": {},
     "output_type": "execute_result"
    }
   ],
   "source": [
    "#checking missing values\n",
    "ntsb_df.isna().sum()"
   ]
  },
  {
   "cell_type": "code",
   "execution_count": 19,
   "id": "c1ea347c",
   "metadata": {
    "scrolled": true
   },
   "outputs": [
    {
     "data": {
      "text/plain": [
       "array(['Fatal(4)', 'Fatal(3)', 'Fatal(1)', 'Non-Fatal', 'Fatal(2)',\n",
       "       'Incident', 'Fatal(8)', 'Fatal(78)', 'Fatal(6)', 'Fatal(5)',\n",
       "       'Fatal(7)', 'Fatal(153)', 'Fatal(14)', 'Fatal(10)', 'Fatal(17)',\n",
       "       'Fatal(29)', 'Fatal(9)', 'Unavailable', 'Fatal(25)', 'Fatal(82)',\n",
       "       'Fatal(18)', 'Fatal(270)', 'Fatal(144)', 'Fatal(11)', 'Fatal(131)',\n",
       "       'Fatal(73)', 'Fatal(34)', 'Fatal(13)', 'Fatal(47)', 'Fatal(12)',\n",
       "       'Fatal(132)', 'Fatal(54)', 'Fatal(65)', 'Fatal(72)', 'Fatal(20)',\n",
       "       'Fatal(160)', 'Fatal(189)', 'Fatal(123)', 'Fatal(33)',\n",
       "       'Fatal(230)', 'Fatal(70)', 'Fatal(349)', 'Fatal(125)', 'Fatal(35)',\n",
       "       'Fatal(228)', 'Fatal(97)', 'Fatal(52)', 'Fatal(87)', 'Fatal(15)',\n",
       "       'Fatal(16)', 'Fatal(80)', 'Fatal(217)', 'Fatal(60)', 'Fatal(83)',\n",
       "       'Fatal(44)', 'Fatal(64)', 'Fatal(92)', 'Fatal(118)', 'Fatal(138)',\n",
       "       'Fatal(206)', 'Fatal(71)', 'Fatal(23)', 'Fatal(21)', 'Fatal(102)',\n",
       "       'Fatal(115)', 'Fatal(141)', 'Fatal(104)', 'Fatal(121)',\n",
       "       'Fatal(45)', 'Fatal(145)', 'Fatal(117)', 'Fatal(154)', 'Fatal(96)',\n",
       "       'Fatal(114)', 'Fatal(89)', nan, 'Fatal', 'Minor', 'Serious'],\n",
       "      dtype=object)"
      ]
     },
     "execution_count": 19,
     "metadata": {},
     "output_type": "execute_result"
    }
   ],
   "source": [
    "#checking injury_severity\n",
    "ntsb_df['injury_severity'].unique()"
   ]
  },
  {
   "cell_type": "code",
   "execution_count": 20,
   "id": "cb076191",
   "metadata": {},
   "outputs": [
    {
     "data": {
      "text/plain": [
       "array(['Fatal', 'Incident', nan, 'Minor', 'Serious'], dtype=object)"
      ]
     },
     "execution_count": 20,
     "metadata": {},
     "output_type": "execute_result"
    }
   ],
   "source": [
    "#changing Fatal(x) injury_severity to Fatal\n",
    "ntsb_df['injury_severity'] = ntsb_df['injury_severity'].map(lambda x: 'Fatal' if x  not in ['Incident','Fatal','Minor','Serious',np.nan] else x)\n",
    "ntsb_df['injury_severity'].unique()"
   ]
  },
  {
   "cell_type": "code",
   "execution_count": 21,
   "id": "1d3937a3",
   "metadata": {},
   "outputs": [
    {
     "data": {
      "text/plain": [
       "array(['Fatal', 'Incident', 'Unknown', 'Minor', 'Serious'], dtype=object)"
      ]
     },
     "execution_count": 21,
     "metadata": {},
     "output_type": "execute_result"
    }
   ],
   "source": [
    "#changing nan injury_severity to Unknown\n",
    "ntsb_df['injury_severity'] = ntsb_df['injury_severity'].map(lambda x: 'Unknown' if x is np.nan else x)\n",
    "ntsb_df['injury_severity'].unique()"
   ]
  },
  {
   "cell_type": "code",
   "execution_count": 22,
   "id": "265bf6fc",
   "metadata": {},
   "outputs": [
    {
     "name": "stdout",
     "output_type": "stream",
     "text": [
      "155\n",
      "4\n"
     ]
    }
   ],
   "source": [
    "# Checking missing values before\n",
    "print(ntsb_df['country'].isna().sum())\n",
    "\n",
    "# Create location_make_df with unique combinations of 'country', 'location', 'make', and 'model'\n",
    "location_make_df = ntsb_df[['country', 'location', 'make', 'model']].dropna(subset=['country']).drop_duplicates()\n",
    "\n",
    "# First attempt: Update missing 'country' based on 'location'\n",
    "ntsb_df['country'] = ntsb_df.apply(\n",
    "    lambda row: location_make_df.loc[\n",
    "        location_make_df['location'] == row['location'], 'country'].values[0]\n",
    "    if pd.isna(row['country']) and row['location'] in location_make_df['location'].values\n",
    "    else row['country'],\n",
    "    axis=1\n",
    ")\n",
    "\n",
    "# Second attempt: Update missing 'country' based on 'make' and 'model' if 'location' doesn't match\n",
    "def fill_country_based_on_make_model(row):\n",
    "    if pd.isna(row['country']):\n",
    "        matching_rows = location_make_df[\n",
    "            (location_make_df['make'] == row['make']) & (location_make_df['model'] == row['model'])]\n",
    "        \n",
    "        if not matching_rows.empty:\n",
    "            return matching_rows['country'].values[0]\n",
    "        else:\n",
    "            return row['country']\n",
    "    return row['country']\n",
    "\n",
    "ntsb_df['country'] = ntsb_df.apply(fill_country_based_on_make_model, axis=1)\n",
    "\n",
    "# Checking missing values after\n",
    "print(ntsb_df['country'].isna().sum())\n"
   ]
  },
  {
   "cell_type": "code",
   "execution_count": 23,
   "id": "390e371f",
   "metadata": {},
   "outputs": [
    {
     "name": "stdout",
     "output_type": "stream",
     "text": [
      "37\n",
      "0\n"
     ]
    }
   ],
   "source": [
    "# Checking missing values before\n",
    "print(ntsb_df['location'].isna().sum())\n",
    "\n",
    "# Create location_make_df with unique combinations of 'country', 'location', 'make', and 'model'\n",
    "location_make_df = ntsb_df[['country', 'location', 'make', 'model']].dropna(subset=['location']).drop_duplicates()\n",
    "\n",
    "# First attempt: Update missing 'location' based on 'country'\n",
    "ntsb_df['location'] = ntsb_df.apply(\n",
    "    lambda row: location_make_df.loc[\n",
    "        location_make_df['country'] == row['country'], 'location'].values[0]\n",
    "    if pd.isna(row['location']) and row['country'] in location_make_df['country'].values\n",
    "    else row['location'],\n",
    "    axis=1\n",
    ")\n",
    "\n",
    "# Second attempt: Update missing 'location' based on 'make' and 'model' if 'country' doesn't match\n",
    "ntsb_df['location'] = ntsb_df.apply(\n",
    "    lambda row: location_make_df.loc[\n",
    "        (location_make_df['make'] == row['make']) & (location_make_df['model'] == row['model']), 'location'].values[0]\n",
    "    if pd.isna(row['location']) and row['make'] in location_make_df['make'].values and row['model'] in location_make_df['model'].values\n",
    "    else row['location'],\n",
    "    axis=1\n",
    ")\n",
    "\n",
    "# Checking missing values after\n",
    "print(ntsb_df['location'].isna().sum())\n"
   ]
  },
  {
   "cell_type": "code",
   "execution_count": 24,
   "id": "fcd34d8d",
   "metadata": {},
   "outputs": [
    {
     "name": "stdout",
     "output_type": "stream",
     "text": [
      "make      0\n",
      "model    12\n",
      "dtype: int64\n",
      "make     0\n",
      "model    1\n",
      "dtype: int64\n"
     ]
    }
   ],
   "source": [
    "# Checking missing values before\n",
    "print(ntsb_df[['make', 'model']].isna().sum())\n",
    "\n",
    "# Create location_make_df with unique combinations of 'country', 'location', 'make', and 'model'\n",
    "location_make_df = ntsb_df[['country', 'location', 'make', 'model']].dropna(subset=['make', 'model']).drop_duplicates()\n",
    "\n",
    "# First attempt: Update missing 'make' based on 'country' and 'location'\n",
    "ntsb_df['make'] = ntsb_df.apply(\n",
    "    lambda row: location_make_df.loc[\n",
    "        (location_make_df['country'] == row['country']) & (location_make_df['location'] == row['location']), 'make'].values[0]\n",
    "    if pd.isna(row['make']) and row['country'] in location_make_df['country'].values and row['location'] in location_make_df['location'].values\n",
    "    else row['make'],\n",
    "    axis=1\n",
    ")\n",
    "\n",
    "# Second attempt: Update missing 'make' based on 'model' if 'country' and 'location' don't match\n",
    "ntsb_df['make'] = ntsb_df.apply(\n",
    "    lambda row: location_make_df.loc[\n",
    "        (location_make_df['model'] == row['model']), 'make'].values[0]\n",
    "    if pd.isna(row['make']) and row['model'] in location_make_df['model'].values\n",
    "    else row['make'],\n",
    "    axis=1\n",
    ")\n",
    "\n",
    "# Second attempt: Update missing 'model' based on 'make' and 'country' if 'model' doesn't match\n",
    "def safe_fill_model(row):\n",
    "    if pd.isna(row['model']):\n",
    "        matching_rows = location_make_df[\n",
    "            (location_make_df['make'] == row['make']) & (location_make_df['country'] == row['country'])]\n",
    "        \n",
    "        if not matching_rows.empty:\n",
    "            return matching_rows['model'].values[0]\n",
    "        else:\n",
    "            return row['model']  # If no match found, return the original model (NaN)\n",
    "    return row['model']\n",
    "\n",
    "ntsb_df['model'] = ntsb_df.apply(safe_fill_model, axis=1)\n",
    "\n",
    "# Checking missing values after\n",
    "print(ntsb_df[['make', 'model']].isna().sum())\n"
   ]
  },
  {
   "cell_type": "code",
   "execution_count": 25,
   "id": "e37b19ed",
   "metadata": {},
   "outputs": [
    {
     "name": "stdout",
     "output_type": "stream",
     "text": [
      "37533\n",
      "875\n"
     ]
    }
   ],
   "source": [
    "# Checking missing values before\n",
    "print(ntsb_df['aircraft_category'].isna().sum())\n",
    "\n",
    "# Create location_make_df with unique combinations of 'aircraft_category', 'location', 'make', and 'model'\n",
    "location_make_df = ntsb_df[['aircraft_category', 'location', 'make', 'model']].dropna(subset=['aircraft_category']).drop_duplicates()\n",
    "\n",
    "# First attempt: Update missing 'aircraft_category' based on 'location'\n",
    "ntsb_df['aircraft_category'] = ntsb_df.apply(\n",
    "    lambda row: location_make_df.loc[\n",
    "        location_make_df['location'] == row['location'], 'aircraft_category'].values[0]\n",
    "    if pd.isna(row['aircraft_category']) and row['location'] in location_make_df['location'].values\n",
    "    else row['aircraft_category'],\n",
    "    axis=1\n",
    ")\n",
    "\n",
    "# Second attempt: Update missing 'aircraft_category' based on 'make' and 'model' if 'location' doesn't match\n",
    "def fill_aircraft_category_based_on_make_model(row):\n",
    "    if pd.isna(row['aircraft_category']):\n",
    "        matching_rows = location_make_df[\n",
    "            (location_make_df['make'] == row['make']) & (location_make_df['model'] == row['model'])]\n",
    "        \n",
    "        if not matching_rows.empty:\n",
    "            return matching_rows['aircraft_category'].values[0]\n",
    "        else:\n",
    "            return row['aircraft_category']\n",
    "    return row['aircraft_category']\n",
    "\n",
    "ntsb_df['aircraft_category'] = ntsb_df.apply(fill_aircraft_category_based_on_make_model, axis=1)\n",
    "\n",
    "# Checking missing values after\n",
    "print(ntsb_df['aircraft_category'].isna().sum())\n"
   ]
  },
  {
   "cell_type": "code",
   "execution_count": 26,
   "id": "00016f7f",
   "metadata": {},
   "outputs": [
    {
     "data": {
      "text/plain": [
       "event_id                      0\n",
       "investigation_type            0\n",
       "accident_number               0\n",
       "event_date                    0\n",
       "location                      0\n",
       "country                       4\n",
       "latitude                  36741\n",
       "longitude                 36746\n",
       "airport_code              22176\n",
       "airport_name              20463\n",
       "injury_severity               0\n",
       "aircraft_damage            1595\n",
       "aircraft_category           875\n",
       "registration_number         819\n",
       "make                          0\n",
       "model                         1\n",
       "amateur_built                65\n",
       "number_of_engines          2726\n",
       "engine_type                3198\n",
       "far_description           37631\n",
       "schedule                  46330\n",
       "purpose_of_flight          3167\n",
       "air_carrier               45462\n",
       "total_fatal_injuries       6706\n",
       "total_serious_injuries     7519\n",
       "total_minor_injuries       7136\n",
       "total_uninjured            3280\n",
       "weather_condition          2287\n",
       "broad_phase_of_flight     12484\n",
       "report_status              2993\n",
       "publication_date           9532\n",
       "dtype: int64"
      ]
     },
     "execution_count": 26,
     "metadata": {},
     "output_type": "execute_result"
    }
   ],
   "source": [
    "ntsb_df.isna().sum()"
   ]
  },
  {
   "cell_type": "code",
   "execution_count": 27,
   "id": "88b4b855",
   "metadata": {},
   "outputs": [],
   "source": [
    "#ntsb_df[['make','injury_severity']].value_counts().reset_index()"
   ]
  },
  {
   "cell_type": "code",
   "execution_count": 28,
   "id": "8014cee0",
   "metadata": {},
   "outputs": [],
   "source": [
    "#ntsb_df[['country','location','make']].value_counts().reset_index().iloc[:15]"
   ]
  },
  {
   "cell_type": "code",
   "execution_count": 29,
   "id": "83c5830e",
   "metadata": {},
   "outputs": [],
   "source": [
    "#drop all missing values\n",
    "#ntsb_df.dropna(inplace=True)"
   ]
  },
  {
   "cell_type": "markdown",
   "id": "6f1c3620",
   "metadata": {},
   "source": [
    "## Feature Engineering"
   ]
  },
  {
   "cell_type": "code",
   "execution_count": 30,
   "id": "3d40ae4b",
   "metadata": {},
   "outputs": [
    {
     "data": {
      "text/plain": [
       "array(['1962', '1974', '1979', '1981', '1982', '1983', '1984', '1985',\n",
       "       '1986', '1987', '1988', '1989', '1990', '1991', '1992', '1993',\n",
       "       '1994', '1995', '1996', '1997', '1998', '1999', '2000', '2001',\n",
       "       '2002', '2003', '2004', '2005', '2006', '2007', '2008', '2009',\n",
       "       '2010', '2011', '2012', '2013', '2014', '2015', '2016', '2017',\n",
       "       '2018', '2019', '2020', '2021', '2022'], dtype=object)"
      ]
     },
     "execution_count": 30,
     "metadata": {},
     "output_type": "execute_result"
    }
   ],
   "source": [
    " #Adding year from event_date\n",
    "ntsb_df['year'] = ntsb_df['event_date'].map(lambda x: x.split(\"-\")[0].strip()) \n",
    "ntsb_df['year'].unique()[:50]"
   ]
  },
  {
   "cell_type": "code",
   "execution_count": 31,
   "id": "a70bf5d4",
   "metadata": {},
   "outputs": [],
   "source": [
    "#Adding states \n",
    "states = pd.read_csv('USState_Codes.csv')"
   ]
  },
  {
   "cell_type": "code",
   "execution_count": 32,
   "id": "d4691cd8",
   "metadata": {},
   "outputs": [
    {
     "data": {
      "text/html": [
       "<div>\n",
       "<style scoped>\n",
       "    .dataframe tbody tr th:only-of-type {\n",
       "        vertical-align: middle;\n",
       "    }\n",
       "\n",
       "    .dataframe tbody tr th {\n",
       "        vertical-align: top;\n",
       "    }\n",
       "\n",
       "    .dataframe thead th {\n",
       "        text-align: right;\n",
       "    }\n",
       "</style>\n",
       "<table border=\"1\" class=\"dataframe\">\n",
       "  <thead>\n",
       "    <tr style=\"text-align: right;\">\n",
       "      <th></th>\n",
       "      <th>US_State</th>\n",
       "      <th>Abbreviation</th>\n",
       "    </tr>\n",
       "  </thead>\n",
       "  <tbody>\n",
       "    <tr>\n",
       "      <th>0</th>\n",
       "      <td>Alabama</td>\n",
       "      <td>AL</td>\n",
       "    </tr>\n",
       "    <tr>\n",
       "      <th>1</th>\n",
       "      <td>Alaska</td>\n",
       "      <td>AK</td>\n",
       "    </tr>\n",
       "    <tr>\n",
       "      <th>2</th>\n",
       "      <td>Arizona</td>\n",
       "      <td>AZ</td>\n",
       "    </tr>\n",
       "    <tr>\n",
       "      <th>3</th>\n",
       "      <td>Arkansas</td>\n",
       "      <td>AR</td>\n",
       "    </tr>\n",
       "    <tr>\n",
       "      <th>4</th>\n",
       "      <td>California</td>\n",
       "      <td>CA</td>\n",
       "    </tr>\n",
       "  </tbody>\n",
       "</table>\n",
       "</div>"
      ],
      "text/plain": [
       "     US_State Abbreviation\n",
       "0     Alabama           AL\n",
       "1      Alaska           AK\n",
       "2     Arizona           AZ\n",
       "3    Arkansas           AR\n",
       "4  California           CA"
      ]
     },
     "execution_count": 32,
     "metadata": {},
     "output_type": "execute_result"
    }
   ],
   "source": [
    "states.head()"
   ]
  },
  {
   "cell_type": "code",
   "execution_count": 33,
   "id": "c86d8309",
   "metadata": {},
   "outputs": [
    {
     "data": {
      "text/html": [
       "<div>\n",
       "<style scoped>\n",
       "    .dataframe tbody tr th:only-of-type {\n",
       "        vertical-align: middle;\n",
       "    }\n",
       "\n",
       "    .dataframe tbody tr th {\n",
       "        vertical-align: top;\n",
       "    }\n",
       "\n",
       "    .dataframe thead th {\n",
       "        text-align: right;\n",
       "    }\n",
       "</style>\n",
       "<table border=\"1\" class=\"dataframe\">\n",
       "  <thead>\n",
       "    <tr style=\"text-align: right;\">\n",
       "      <th></th>\n",
       "      <th>event_id</th>\n",
       "      <th>investigation_type</th>\n",
       "      <th>accident_number</th>\n",
       "      <th>event_date</th>\n",
       "      <th>location</th>\n",
       "      <th>country</th>\n",
       "      <th>latitude</th>\n",
       "      <th>longitude</th>\n",
       "      <th>airport_code</th>\n",
       "      <th>airport_name</th>\n",
       "      <th>injury_severity</th>\n",
       "      <th>aircraft_damage</th>\n",
       "      <th>aircraft_category</th>\n",
       "      <th>registration_number</th>\n",
       "      <th>make</th>\n",
       "      <th>model</th>\n",
       "      <th>amateur_built</th>\n",
       "      <th>number_of_engines</th>\n",
       "      <th>engine_type</th>\n",
       "      <th>far_description</th>\n",
       "      <th>schedule</th>\n",
       "      <th>purpose_of_flight</th>\n",
       "      <th>air_carrier</th>\n",
       "      <th>total_fatal_injuries</th>\n",
       "      <th>total_serious_injuries</th>\n",
       "      <th>total_minor_injuries</th>\n",
       "      <th>total_uninjured</th>\n",
       "      <th>weather_condition</th>\n",
       "      <th>broad_phase_of_flight</th>\n",
       "      <th>report_status</th>\n",
       "      <th>publication_date</th>\n",
       "      <th>year</th>\n",
       "    </tr>\n",
       "  </thead>\n",
       "  <tbody>\n",
       "    <tr>\n",
       "      <th>1</th>\n",
       "      <td>20001218X45447</td>\n",
       "      <td>Accident</td>\n",
       "      <td>LAX94LA336</td>\n",
       "      <td>1962-07-19</td>\n",
       "      <td>Bridgeport, Ca</td>\n",
       "      <td>United States</td>\n",
       "      <td>NaN</td>\n",
       "      <td>NaN</td>\n",
       "      <td>NaN</td>\n",
       "      <td>NaN</td>\n",
       "      <td>Fatal</td>\n",
       "      <td>Destroyed</td>\n",
       "      <td>Airplane</td>\n",
       "      <td>N5069P</td>\n",
       "      <td>Piper</td>\n",
       "      <td>Pa24-180</td>\n",
       "      <td>No</td>\n",
       "      <td>1.0</td>\n",
       "      <td>Reciprocating</td>\n",
       "      <td>NaN</td>\n",
       "      <td>NaN</td>\n",
       "      <td>Personal</td>\n",
       "      <td>NaN</td>\n",
       "      <td>4.0</td>\n",
       "      <td>0.0</td>\n",
       "      <td>0.0</td>\n",
       "      <td>0.0</td>\n",
       "      <td>UNK</td>\n",
       "      <td>Unknown</td>\n",
       "      <td>Probable Cause</td>\n",
       "      <td>19-09-1996</td>\n",
       "      <td>1962</td>\n",
       "    </tr>\n",
       "    <tr>\n",
       "      <th>2</th>\n",
       "      <td>20061025X01555</td>\n",
       "      <td>Accident</td>\n",
       "      <td>NYC07LA005</td>\n",
       "      <td>1974-08-30</td>\n",
       "      <td>Saltville, Va</td>\n",
       "      <td>United States</td>\n",
       "      <td>36.922223</td>\n",
       "      <td>NaN</td>\n",
       "      <td>NaN</td>\n",
       "      <td>NaN</td>\n",
       "      <td>Fatal</td>\n",
       "      <td>Destroyed</td>\n",
       "      <td>Airplane</td>\n",
       "      <td>N5142R</td>\n",
       "      <td>Cessna</td>\n",
       "      <td>172M</td>\n",
       "      <td>No</td>\n",
       "      <td>1.0</td>\n",
       "      <td>Reciprocating</td>\n",
       "      <td>NaN</td>\n",
       "      <td>NaN</td>\n",
       "      <td>Personal</td>\n",
       "      <td>NaN</td>\n",
       "      <td>3.0</td>\n",
       "      <td>NaN</td>\n",
       "      <td>NaN</td>\n",
       "      <td>NaN</td>\n",
       "      <td>IMC</td>\n",
       "      <td>Cruise</td>\n",
       "      <td>Probable Cause</td>\n",
       "      <td>26-02-2007</td>\n",
       "      <td>1974</td>\n",
       "    </tr>\n",
       "    <tr>\n",
       "      <th>4</th>\n",
       "      <td>20041105X01764</td>\n",
       "      <td>Accident</td>\n",
       "      <td>CHI79FA064</td>\n",
       "      <td>1979-08-02</td>\n",
       "      <td>Canton, Oh</td>\n",
       "      <td>United States</td>\n",
       "      <td>NaN</td>\n",
       "      <td>NaN</td>\n",
       "      <td>NaN</td>\n",
       "      <td>NaN</td>\n",
       "      <td>Fatal</td>\n",
       "      <td>Destroyed</td>\n",
       "      <td>Airplane</td>\n",
       "      <td>N15NY</td>\n",
       "      <td>Cessna</td>\n",
       "      <td>501</td>\n",
       "      <td>No</td>\n",
       "      <td>NaN</td>\n",
       "      <td>NaN</td>\n",
       "      <td>NaN</td>\n",
       "      <td>NaN</td>\n",
       "      <td>Personal</td>\n",
       "      <td>NaN</td>\n",
       "      <td>1.0</td>\n",
       "      <td>2.0</td>\n",
       "      <td>NaN</td>\n",
       "      <td>0.0</td>\n",
       "      <td>VMC</td>\n",
       "      <td>Approach</td>\n",
       "      <td>Probable Cause</td>\n",
       "      <td>16-04-1980</td>\n",
       "      <td>1979</td>\n",
       "    </tr>\n",
       "    <tr>\n",
       "      <th>6</th>\n",
       "      <td>20001218X45446</td>\n",
       "      <td>Accident</td>\n",
       "      <td>CHI81LA106</td>\n",
       "      <td>1981-08-01</td>\n",
       "      <td>Cotton, Mn</td>\n",
       "      <td>United States</td>\n",
       "      <td>NaN</td>\n",
       "      <td>NaN</td>\n",
       "      <td>NaN</td>\n",
       "      <td>NaN</td>\n",
       "      <td>Fatal</td>\n",
       "      <td>Destroyed</td>\n",
       "      <td>Airplane</td>\n",
       "      <td>N4988E</td>\n",
       "      <td>Cessna</td>\n",
       "      <td>180</td>\n",
       "      <td>No</td>\n",
       "      <td>1.0</td>\n",
       "      <td>Reciprocating</td>\n",
       "      <td>NaN</td>\n",
       "      <td>NaN</td>\n",
       "      <td>Personal</td>\n",
       "      <td>NaN</td>\n",
       "      <td>4.0</td>\n",
       "      <td>0.0</td>\n",
       "      <td>0.0</td>\n",
       "      <td>0.0</td>\n",
       "      <td>IMC</td>\n",
       "      <td>Unknown</td>\n",
       "      <td>Probable Cause</td>\n",
       "      <td>06-11-2001</td>\n",
       "      <td>1981</td>\n",
       "    </tr>\n",
       "    <tr>\n",
       "      <th>7</th>\n",
       "      <td>20020909X01562</td>\n",
       "      <td>Accident</td>\n",
       "      <td>SEA82DA022</td>\n",
       "      <td>1982-01-01</td>\n",
       "      <td>Pullman, Wa</td>\n",
       "      <td>United States</td>\n",
       "      <td>NaN</td>\n",
       "      <td>NaN</td>\n",
       "      <td>NaN</td>\n",
       "      <td>Blackburn Ag Strip</td>\n",
       "      <td>Fatal</td>\n",
       "      <td>Substantial</td>\n",
       "      <td>Airplane</td>\n",
       "      <td>N2482N</td>\n",
       "      <td>Cessna</td>\n",
       "      <td>140</td>\n",
       "      <td>No</td>\n",
       "      <td>1.0</td>\n",
       "      <td>Reciprocating</td>\n",
       "      <td>Part 91: General Aviation</td>\n",
       "      <td>NaN</td>\n",
       "      <td>Personal</td>\n",
       "      <td>NaN</td>\n",
       "      <td>0.0</td>\n",
       "      <td>0.0</td>\n",
       "      <td>0.0</td>\n",
       "      <td>2.0</td>\n",
       "      <td>VMC</td>\n",
       "      <td>Takeoff</td>\n",
       "      <td>Probable Cause</td>\n",
       "      <td>01-01-1982</td>\n",
       "      <td>1982</td>\n",
       "    </tr>\n",
       "  </tbody>\n",
       "</table>\n",
       "</div>"
      ],
      "text/plain": [
       "         event_id investigation_type accident_number  event_date  \\\n",
       "1  20001218X45447           Accident      LAX94LA336  1962-07-19   \n",
       "2  20061025X01555           Accident      NYC07LA005  1974-08-30   \n",
       "4  20041105X01764           Accident      CHI79FA064  1979-08-02   \n",
       "6  20001218X45446           Accident      CHI81LA106  1981-08-01   \n",
       "7  20020909X01562           Accident      SEA82DA022  1982-01-01   \n",
       "\n",
       "         location        country   latitude longitude airport_code  \\\n",
       "1  Bridgeport, Ca  United States        NaN       NaN          NaN   \n",
       "2   Saltville, Va  United States  36.922223       NaN          NaN   \n",
       "4      Canton, Oh  United States        NaN       NaN          NaN   \n",
       "6      Cotton, Mn  United States        NaN       NaN          NaN   \n",
       "7     Pullman, Wa  United States        NaN       NaN          NaN   \n",
       "\n",
       "         airport_name injury_severity aircraft_damage aircraft_category  \\\n",
       "1                 NaN           Fatal       Destroyed          Airplane   \n",
       "2                 NaN           Fatal       Destroyed          Airplane   \n",
       "4                 NaN           Fatal       Destroyed          Airplane   \n",
       "6                 NaN           Fatal       Destroyed          Airplane   \n",
       "7  Blackburn Ag Strip           Fatal     Substantial          Airplane   \n",
       "\n",
       "  registration_number    make     model amateur_built  number_of_engines  \\\n",
       "1              N5069P   Piper  Pa24-180            No                1.0   \n",
       "2              N5142R  Cessna      172M            No                1.0   \n",
       "4               N15NY  Cessna       501            No                NaN   \n",
       "6              N4988E  Cessna       180            No                1.0   \n",
       "7              N2482N  Cessna       140            No                1.0   \n",
       "\n",
       "     engine_type            far_description schedule purpose_of_flight  \\\n",
       "1  Reciprocating                        NaN      NaN          Personal   \n",
       "2  Reciprocating                        NaN      NaN          Personal   \n",
       "4            NaN                        NaN      NaN          Personal   \n",
       "6  Reciprocating                        NaN      NaN          Personal   \n",
       "7  Reciprocating  Part 91: General Aviation      NaN          Personal   \n",
       "\n",
       "  air_carrier  total_fatal_injuries  total_serious_injuries  \\\n",
       "1         NaN                   4.0                     0.0   \n",
       "2         NaN                   3.0                     NaN   \n",
       "4         NaN                   1.0                     2.0   \n",
       "6         NaN                   4.0                     0.0   \n",
       "7         NaN                   0.0                     0.0   \n",
       "\n",
       "   total_minor_injuries  total_uninjured weather_condition  \\\n",
       "1                   0.0              0.0               UNK   \n",
       "2                   NaN              NaN               IMC   \n",
       "4                   NaN              0.0               VMC   \n",
       "6                   0.0              0.0               IMC   \n",
       "7                   0.0              2.0               VMC   \n",
       "\n",
       "  broad_phase_of_flight   report_status publication_date  year  \n",
       "1               Unknown  Probable Cause       19-09-1996  1962  \n",
       "2                Cruise  Probable Cause       26-02-2007  1974  \n",
       "4              Approach  Probable Cause       16-04-1980  1979  \n",
       "6               Unknown  Probable Cause       06-11-2001  1981  \n",
       "7               Takeoff  Probable Cause       01-01-1982  1982  "
      ]
     },
     "execution_count": 33,
     "metadata": {},
     "output_type": "execute_result"
    }
   ],
   "source": [
    "ntsb_df.head()"
   ]
  },
  {
   "cell_type": "code",
   "execution_count": 34,
   "id": "82666ff0",
   "metadata": {},
   "outputs": [
    {
     "data": {
      "text/plain": [
       "array(['California', 'Virginia', 'Ohio', 'Minnesota', 'Washington',\n",
       "       'New Jersey', 'New Mexico', 'Alabama', 'Texas', 'Arkansas',\n",
       "       'Alaska', 'Pennsylvania', 'Michigan', 'Georgia', 'Florida',\n",
       "       'Oregon', 'Nevada', 'Indiana', 'SAINT CROIX', 'Arizona',\n",
       "       'New York', 'North Carolina', 'Missouri', 'Wyoming', 'Illinois',\n",
       "       'South Carolina', 'Montana', 'Maryland', 'Hawaii', 'Colorado',\n",
       "       'Mississippi', 'Washington_DC', 'Oklahoma', 'Utah', 'Vermont',\n",
       "       'Louisiana', 'Kansas', 'New Hampshire', 'Iowa', 'Idaho',\n",
       "       'Wisconsin', 'Massachusetts', 'Connecticut', 'Kentucky',\n",
       "       'GULF OF MEXICO', 'Tennessee', 'SAN JUAN', 'South Dakota',\n",
       "       'Nebraska', 'Rhode Island'], dtype=object)"
      ]
     },
     "execution_count": 34,
     "metadata": {},
     "output_type": "execute_result"
    }
   ],
   "source": [
    " #Adding state from location\n",
    "ntsb_df['state'] = ntsb_df['location'].map(lambda x: x.split(\",\")[-1].upper().strip())\n",
    "ntsb_df['state'] = ntsb_df['state'].map(lambda x: states.loc[states['Abbreviation'] == x, 'US_State'].values[0] if x in states['Abbreviation'].values else x)\n",
    "ntsb_df['state'].unique()[:50]"
   ]
  },
  {
   "cell_type": "code",
   "execution_count": 35,
   "id": "d11176f0",
   "metadata": {},
   "outputs": [
    {
     "data": {
      "text/plain": [
       "array(['Bridgeport', 'Saltville', 'Canton', 'Cotton', 'Pullman'],\n",
       "      dtype=object)"
      ]
     },
     "execution_count": 35,
     "metadata": {},
     "output_type": "execute_result"
    }
   ],
   "source": [
    " #Adding town from location\n",
    "ntsb_df['town'] = ntsb_df['location'].map(lambda x: x.split(\",\")[0].strip())\n",
    "ntsb_df['town'].unique()[:5]"
   ]
  },
  {
   "cell_type": "code",
   "execution_count": 36,
   "id": "9a34926c",
   "metadata": {},
   "outputs": [],
   "source": [
    "# Creating a function to determine the severity based on the greatest value\n",
    "def calculate_severity(row):\n",
    "    # Extract the values for each injury type\n",
    "    fatal = row['total_fatal_injuries']\n",
    "    serious = row['total_serious_injuries']\n",
    "    minor = row['total_minor_injuries']\n",
    "    uninjured = row['total_uninjured']\n",
    "    \n",
    "    # Determine the category with the greatest number\n",
    "    max_value = max(fatal, serious, minor, uninjured)\n",
    "    \n",
    "    # Classify based on the greatest value\n",
    "    if max_value == fatal:\n",
    "        return 'Fatal'\n",
    "    elif max_value == serious:\n",
    "        return 'Serious'\n",
    "    elif max_value == minor:\n",
    "        return 'Minor'\n",
    "    else:\n",
    "        return 'Uninjured'\n",
    "\n",
    "# Apply the function to create the new 'calculated_severity' column\n",
    "ntsb_df['calculated_severity'] = ntsb_df.apply(calculate_severity, axis=1) "
   ]
  },
  {
   "cell_type": "code",
   "execution_count": 37,
   "id": "e66643b6",
   "metadata": {},
   "outputs": [
    {
     "data": {
      "text/plain": [
       "array(['Fatal', 'Serious', 'Uninjured', 'Minor'], dtype=object)"
      ]
     },
     "execution_count": 37,
     "metadata": {},
     "output_type": "execute_result"
    }
   ],
   "source": [
    "ntsb_df['calculated_severity'].unique()"
   ]
  },
  {
   "cell_type": "code",
   "execution_count": 38,
   "id": "d1e3c51e",
   "metadata": {},
   "outputs": [
    {
     "data": {
      "text/plain": [
       "array(['United States'], dtype=object)"
      ]
     },
     "execution_count": 38,
     "metadata": {},
     "output_type": "execute_result"
    }
   ],
   "source": [
    "#taking companies based on us\n",
    "ntsb_main_df = ntsb_df[ntsb_df['country'] == 'United States']\n",
    "ntsb_main_df['country'].unique()"
   ]
  },
  {
   "cell_type": "markdown",
   "id": "93808ae1",
   "metadata": {},
   "source": [
    "## Checking Outliers"
   ]
  },
  {
   "cell_type": "code",
   "execution_count": 39,
   "id": "a3cc6803",
   "metadata": {},
   "outputs": [],
   "source": [
    "numeric_df =ntsb_main_df.select_dtypes(include = ['number'])"
   ]
  },
  {
   "cell_type": "code",
   "execution_count": 40,
   "id": "baf355df",
   "metadata": {},
   "outputs": [
    {
     "data": {
      "image/png": "[encoded data removed]",
      "text/plain": [
       "<Figure size 864x1080 with 5 Axes>"
      ]
     },
     "metadata": {
      "needs_background": "light"
     },
     "output_type": "display_data"
    }
   ],
   "source": [
    "#calculate the number of fig to fit height \n",
    "grid=(numeric_df.shape[1]+1)//2 \n",
    "#allocating each plot a height of 5\n",
    "plt.figure(figsize=(12, grid * 5))\n",
    "\n",
    "count=0\n",
    "for col in numeric_df:\n",
    "    count += 1 \n",
    "    plt.subplot(grid,2,count)\n",
    "    sns.boxplot(y=ntsb_df[col])  "
   ]
  },
  {
   "cell_type": "code",
   "execution_count": 41,
   "id": "e9cc62f2",
   "metadata": {},
   "outputs": [],
   "source": [
    "for col in numeric_df:    \n",
    "    q1= ntsb_main_df[col].quantile(0.25)\n",
    "    q3 = ntsb_main_df[col].quantile(0.90) #because of large amount of outliers\n",
    "\n",
    "    # calculating iqr\n",
    "    iqr = q3 - q1\n",
    "\n",
    "    #defining lower and upper bound\n",
    "    upper= q3 + 1.5 * iqr\n",
    "    lower = q1 - 1.5 * iqr\n",
    "\n",
    "    # removing outliers\n",
    "    ntsb_main_df_cleaned = ntsb_main_df[(ntsb_main_df[col] >= lower) & (ntsb_main_df[col] <= upper)]"
   ]
  },
  {
   "cell_type": "code",
   "execution_count": 42,
   "id": "1a09e59d",
   "metadata": {},
   "outputs": [
    {
     "data": {
      "image/png": "[encoded data removed]",
      "text/plain": [
       "<Figure size 864x1080 with 5 Axes>"
      ]
     },
     "metadata": {
      "needs_background": "light"
     },
     "output_type": "display_data"
    }
   ],
   "source": [
    "#allocating each plot a height of 5\n",
    "plt.figure(figsize=(12, grid * 5))\n",
    "\n",
    "count=0\n",
    "for col in numeric_df:\n",
    "    count += 1 \n",
    "    plt.subplot(grid,2,count)\n",
    "    sns.boxplot(y=ntsb_df[col])"
   ]
  },
  {
   "cell_type": "code",
   "execution_count": 43,
   "id": "07214eeb",
   "metadata": {},
   "outputs": [],
   "source": [
    "#taking no of engine above 0\n",
    "ntsb_df = ntsb_df[ntsb_df.number_of_engines > 0]"
   ]
  },
  {
   "cell_type": "markdown",
   "id": "363285b0",
   "metadata": {},
   "source": [
    "## Checking Duplicates"
   ]
  },
  {
   "cell_type": "code",
   "execution_count": 44,
   "id": "80ff39ef",
   "metadata": {},
   "outputs": [
    {
     "data": {
      "text/plain": [
       "1        False\n",
       "2        False\n",
       "6        False\n",
       "7        False\n",
       "8        False\n",
       "         ...  \n",
       "88858    False\n",
       "88861    False\n",
       "88865    False\n",
       "88869    False\n",
       "88877    False\n",
       "Length: 50546, dtype: bool"
      ]
     },
     "execution_count": 44,
     "metadata": {},
     "output_type": "execute_result"
    }
   ],
   "source": [
    "ntsb_df.duplicated()"
   ]
  },
  {
   "cell_type": "code",
   "execution_count": 45,
   "id": "82b94b20",
   "metadata": {},
   "outputs": [
    {
     "data": {
      "text/plain": [
       "0"
      ]
     },
     "execution_count": 45,
     "metadata": {},
     "output_type": "execute_result"
    }
   ],
   "source": [
    "ntsb_df.duplicated().sum()"
   ]
  },
  {
   "cell_type": "code",
   "execution_count": 46,
   "id": "66f35fc4",
   "metadata": {},
   "outputs": [],
   "source": [
    "ntsb_df.drop_duplicates(inplace=True)"
   ]
  },
  {
   "cell_type": "code",
   "execution_count": 47,
   "id": "8dc9103c",
   "metadata": {},
   "outputs": [
    {
     "data": {
      "text/plain": [
       "(49852, 35)"
      ]
     },
     "execution_count": 47,
     "metadata": {},
     "output_type": "execute_result"
    }
   ],
   "source": [
    "#checking shape\n",
    "ntsb_main_df.shape"
   ]
  },
  {
   "cell_type": "code",
   "execution_count": 124,
   "id": "d62b880e",
   "metadata": {},
   "outputs": [
    {
     "data": {
      "text/plain": [
       "array(['United States'], dtype=object)"
      ]
     },
     "execution_count": 124,
     "metadata": {},
     "output_type": "execute_result"
    }
   ],
   "source": [
    "#taking companies based on us\n",
    "ntsb_main_df = ntsb_df[ntsb_df['country'] == 'United States']\n",
    "ntsb_main_df['country'].unique()"
   ]
  },
  {
   "cell_type": "code",
   "execution_count": 125,
   "id": "e29839b7",
   "metadata": {},
   "outputs": [],
   "source": [
    "#select columns to use\n",
    "ntsb_main_df = ntsb_df[['event_id', 'investigation_type', 'accident_number', 'event_date',\n",
    "       'location', 'country','injury_severity', 'aircraft_damage',\n",
    "       'aircraft_category', 'registration_number', 'make', 'model',\n",
    "       'amateur_built', 'number_of_engines', 'engine_type', 'far_description', 'purpose_of_flight',  \n",
    "       'weather_condition', 'broad_phase_of_flight', \n",
    "       'publication_date', 'state','year','calculated_severity','town','total_fatal_injuries',\n",
    "       'total_serious_injuries', 'total_minor_injuries', 'total_uninjured']]"
   ]
  },
  {
   "cell_type": "code",
   "execution_count": 126,
   "id": "e2170cdb",
   "metadata": {},
   "outputs": [
    {
     "data": {
      "text/plain": [
       "(50546, 28)"
      ]
     },
     "execution_count": 126,
     "metadata": {},
     "output_type": "execute_result"
    }
   ],
   "source": [
    "ntsb_main_df.shape"
   ]
  },
  {
   "cell_type": "code",
   "execution_count": 127,
   "id": "8f317051",
   "metadata": {},
   "outputs": [
    {
     "data": {
      "text/plain": [
       "event_id                      0\n",
       "investigation_type            0\n",
       "accident_number               0\n",
       "event_date                    0\n",
       "location                      0\n",
       "country                       3\n",
       "injury_severity               0\n",
       "aircraft_damage             977\n",
       "aircraft_category           782\n",
       "registration_number          34\n",
       "make                          0\n",
       "model                         1\n",
       "amateur_built                12\n",
       "number_of_engines             0\n",
       "engine_type                1077\n",
       "far_description           36327\n",
       "purpose_of_flight          1575\n",
       "weather_condition           739\n",
       "broad_phase_of_flight      9700\n",
       "publication_date           9046\n",
       "state                         0\n",
       "year                          0\n",
       "calculated_severity           0\n",
       "town                          0\n",
       "total_fatal_injuries       6219\n",
       "total_serious_injuries     6801\n",
       "total_minor_injuries       6384\n",
       "total_uninjured            2714\n",
       "dtype: int64"
      ]
     },
     "execution_count": 127,
     "metadata": {},
     "output_type": "execute_result"
    }
   ],
   "source": [
    "ntsb_main_df.isna().sum()"
   ]
  },
  {
   "cell_type": "code",
   "execution_count": 128,
   "id": "1637ae93",
   "metadata": {},
   "outputs": [
    {
     "name": "stderr",
     "output_type": "stream",
     "text": [
      "C:\\anaconda\\lib\\site-packages\\pandas\\util\\_decorators.py:311: SettingWithCopyWarning: \n",
      "A value is trying to be set on a copy of a slice from a DataFrame\n",
      "\n",
      "See the caveats in the documentation: https://pandas.pydata.org/pandas-docs/stable/user_guide/indexing.html#returning-a-view-versus-a-copy\n",
      "  return func(*args, **kwargs)\n"
     ]
    }
   ],
   "source": [
    "ntsb_main_df.dropna(inplace=True)"
   ]
  },
  {
   "cell_type": "code",
   "execution_count": 129,
   "id": "ce9aca9f",
   "metadata": {},
   "outputs": [
    {
     "data": {
      "text/plain": [
       "(2629, 28)"
      ]
     },
     "execution_count": 129,
     "metadata": {},
     "output_type": "execute_result"
    }
   ],
   "source": [
    "ntsb_main_df.shape"
   ]
  },
  {
   "cell_type": "code",
   "execution_count": 130,
   "id": "1defe2cd",
   "metadata": {},
   "outputs": [
    {
     "data": {
      "text/plain": [
       "event_id                  0\n",
       "investigation_type        0\n",
       "accident_number           0\n",
       "event_date                0\n",
       "location                  0\n",
       "country                   0\n",
       "injury_severity           0\n",
       "aircraft_damage           0\n",
       "aircraft_category         0\n",
       "registration_number       0\n",
       "make                      0\n",
       "model                     0\n",
       "amateur_built             0\n",
       "number_of_engines         0\n",
       "engine_type               0\n",
       "far_description           0\n",
       "purpose_of_flight         0\n",
       "weather_condition         0\n",
       "broad_phase_of_flight     0\n",
       "publication_date          0\n",
       "state                     0\n",
       "year                      0\n",
       "calculated_severity       0\n",
       "town                      0\n",
       "total_fatal_injuries      0\n",
       "total_serious_injuries    0\n",
       "total_minor_injuries      0\n",
       "total_uninjured           0\n",
       "dtype: int64"
      ]
     },
     "execution_count": 130,
     "metadata": {},
     "output_type": "execute_result"
    }
   ],
   "source": [
    "ntsb_main_df.isna().sum()"
   ]
  },
  {
   "cell_type": "code",
   "execution_count": 131,
   "id": "9161a95f",
   "metadata": {},
   "outputs": [],
   "source": [
    "ntsb_main_df.to_csv(\"ntsb_clean.csv\", index=False)"
   ]
  },
  {
   "cell_type": "markdown",
   "id": "7fcdda21",
   "metadata": {},
   "source": [
    "# Explanatory Data Analysis"
   ]
  },
  {
   "cell_type": "markdown",
   "id": "dbf56ae0",
   "metadata": {},
   "source": [
    "## Univariate Analysis"
   ]
  },
  {
   "cell_type": "code",
   "execution_count": 132,
   "id": "ef746bb2",
   "metadata": {},
   "outputs": [
    {
     "data": {
      "image/png": "[encoded data removed]",
      "text/plain": [
       "<Figure size 1152x432 with 1 Axes>"
      ]
     },
     "metadata": {
      "needs_background": "light"
     },
     "output_type": "display_data"
    }
   ],
   "source": [
    "#plotting countries with no of accidents\n",
    "countries_df = ntsb_main_df['country'].value_counts().reset_index().iloc[:30]\n",
    "plt.figure(figsize=(16,6))\n",
    "sns.barplot(x=countries_df['index'],y=countries_df['country'])\n",
    "plt.xlabel('Countries')\n",
    "plt.xticks(rotation=90)\n",
    "plt.ylabel('No of Accidents')\n",
    "plt.title(\"No of Accidents per Country\")\n",
    "plt.show()\n",
    "#Observation: US is leading in accidents"
   ]
  },
  {
   "cell_type": "code",
   "execution_count": 235,
   "id": "45be15b0",
   "metadata": {},
   "outputs": [
    {
     "data": {
      "image/png": "[encoded data removed]",
      "text/plain": [
       "<Figure size 1152x432 with 1 Axes>"
      ]
     },
     "metadata": {
      "needs_background": "light"
     },
     "output_type": "display_data"
    }
   ],
   "source": [
    "#plotting aircraft category with no of accidents\n",
    "aircraft_category_df = ntsb_main_df['aircraft_category'].value_counts().reset_index().iloc[:30]\n",
    "plt.figure(figsize=(16,6))\n",
    "sns.barplot(x=aircraft_category_df['index'],y=aircraft_category_df['aircraft_category'],palette='Blues_r')\n",
    "plt.xlabel('Aircraft Category')\n",
    "plt.xticks(rotation=90)\n",
    "plt.ylabel('No of Accidents')\n",
    "plt.title(\"No of Accidents per Aircraft Category\")\n",
    "plt.show()\n",
    "#Observation: airplane category has most accidents"
   ]
  },
  {
   "cell_type": "code",
   "execution_count": 248,
   "id": "f5abdc1b",
   "metadata": {},
   "outputs": [
    {
     "data": {
      "image/png": "[encoded data removed]",
      "text/plain": [
       "<Figure size 1152x432 with 1 Axes>"
      ]
     },
     "metadata": {
      "needs_background": "light"
     },
     "output_type": "display_data"
    }
   ],
   "source": [
    "#plotting make with no of accidents\n",
    "make_df = ntsb_main_df['make'].value_counts().reset_index()\n",
    "plt.figure(figsize=(16,6))\n",
    "sns.barplot(x=make_df['index'],y=make_df['make'],palette='Blues_r')\n",
    "plt.xlabel('Type of Make')\n",
    "plt.xticks(rotation=45)\n",
    "plt.ylabel('No of Accidents')\n",
    "plt.title(\"No of Accidents per Make\")\n",
    "plt.savefig('No_of_Accidents_per_Make.png')\n",
    "plt.show()\n"
   ]
  },
  {
   "cell_type": "markdown",
   "id": "aa64b57b",
   "metadata": {},
   "source": [
    "<b>Observation:</b> Cessna has most accidents while Boeing has least"
   ]
  },
  {
   "cell_type": "code",
   "execution_count": 249,
   "id": "30bd251f",
   "metadata": {},
   "outputs": [
    {
     "data": {
      "image/png": "[encoded data removed]",
      "text/plain": [
       "<Figure size 1152x432 with 1 Axes>"
      ]
     },
     "metadata": {
      "needs_background": "light"
     },
     "output_type": "display_data"
    }
   ],
   "source": [
    "#plotting model with no of accidents\n",
    "model_df = ntsb_main_df['model'].value_counts().reset_index().iloc[:30]\n",
    "plt.figure(figsize=(16,6))\n",
    "sns.barplot(x=model_df['index'],y=model_df['model'],palette='Blues_r')\n",
    "plt.xlabel('Type of Model')\n",
    "plt.xticks(rotation=45)\n",
    "plt.ylabel('No of Accidents')\n",
    "plt.title(\"No of Accidents per Model\")\n",
    "plt.savefig('No_of_Accidents_per_Model.png')\n",
    "plt.show()"
   ]
  },
  {
   "cell_type": "markdown",
   "id": "1421e456",
   "metadata": {},
   "source": [
    "<b>Observation</b>: 152 is the most common model from all models"
   ]
  },
  {
   "cell_type": "code",
   "execution_count": 232,
   "id": "21d9ea40",
   "metadata": {},
   "outputs": [
    {
     "data": {
      "image/png": "[encoded data removed]",
      "text/plain": [
       "<Figure size 1152x432 with 1 Axes>"
      ]
     },
     "metadata": {
      "needs_background": "light"
     },
     "output_type": "display_data"
    }
   ],
   "source": [
    "#comparison btw number of engines and purpose of flight \n",
    "plt.figure(figsize=(16,6))\n",
    "purpose_count =  ntsb_main_df['purpose_of_flight'].value_counts()\n",
    "sns.countplot(x=ntsb_main_df['purpose_of_flight'],order=purpose_count.index,palette='Blues_r')\n",
    "plt.ylabel('No of Accidents')\n",
    "plt.xticks(rotation=45)\n",
    "plt.xlabel('Purpose of Flight')\n",
    "plt.title(\"Number of Accidents to Purpose of Flight\")\n",
    "plt.show()\n",
    "\n",
    "#Observation: Personal, Unknown and Instructionsl are  most common purpose flights"
   ]
  },
  {
   "cell_type": "markdown",
   "id": "776ee04f",
   "metadata": {},
   "source": [
    "### Summary\n",
    "The country to look into is United States and how top make and their respectively models and their aircraft category accessed to their potential risks.\n",
    "And which specific purpose of flight has lower risk."
   ]
  },
  {
   "cell_type": "markdown",
   "id": "9e1fa716",
   "metadata": {},
   "source": [
    "## Bivariate Analysis"
   ]
  },
  {
   "cell_type": "code",
   "execution_count": 137,
   "id": "868caa78",
   "metadata": {},
   "outputs": [
    {
     "data": {
      "image/png": "[encoded data removed]",
      "text/plain": [
       "<Figure size 1152x432 with 1 Axes>"
      ]
     },
     "metadata": {
      "needs_background": "light"
     },
     "output_type": "display_data"
    }
   ],
   "source": [
    "#type of make and country  \n",
    "plt.figure(figsize=(16,6))\n",
    "sns.scatterplot(x=ntsb_main_df['total_uninjured']+ntsb_main_df['total_minor_injuries'],y=ntsb_main_df['total_fatal_injuries']+ntsb_main_df['total_serious_injuries'])\n",
    "plt.xlabel('Total Uninjured and Minor Injuries')\n",
    "plt.xticks(rotation=45)\n",
    "plt.ylabel('Total Fatal and Serious Injuries')\n",
    "plt.title(\"Total Fatal and Serious Injuries to  Total Uninjured and Minor Injuries\")\n",
    "plt.show()"
   ]
  },
  {
   "cell_type": "code",
   "execution_count": 138,
   "id": "61547509",
   "metadata": {},
   "outputs": [
    {
     "data": {
      "text/plain": [
       "array([0., 1., 2., 3., 8., 4., 6., 5., 7.])"
      ]
     },
     "execution_count": 138,
     "metadata": {},
     "output_type": "execute_result"
    }
   ],
   "source": [
    "ntsb_main_df['total_fatal_injuries'].unique()"
   ]
  },
  {
   "cell_type": "code",
   "execution_count": 230,
   "id": "d9345200",
   "metadata": {},
   "outputs": [
    {
     "data": {
      "text/plain": [
       "<AxesSubplot:>"
      ]
     },
     "execution_count": 230,
     "metadata": {},
     "output_type": "execute_result"
    },
    {
     "data": {
      "image/png": "[encoded data removed]",
      "text/plain": [
       "<Figure size 432x288 with 2 Axes>"
      ]
     },
     "metadata": {
      "needs_background": "light"
     },
     "output_type": "display_data"
    }
   ],
   "source": [
    "#correlation of numeric columns\n",
    "corr = numeric_df.corr()\n",
    "sns.heatmap(corr,annot=True,fmt=\".2f\", cmap=\"Blues_r\")"
   ]
  },
  {
   "cell_type": "markdown",
   "id": "8e8fd9fc",
   "metadata": {},
   "source": [
    "<b>Observation:</b> <span><code>number_of_engines</code></span> and <span><code>'total_injured'</code></span> have positive correlation"
   ]
  },
  {
   "cell_type": "code",
   "execution_count": 206,
   "id": "27f4ccff",
   "metadata": {},
   "outputs": [
    {
     "data": {
      "text/html": [
       "<div>\n",
       "<style scoped>\n",
       "    .dataframe tbody tr th:only-of-type {\n",
       "        vertical-align: middle;\n",
       "    }\n",
       "\n",
       "    .dataframe tbody tr th {\n",
       "        vertical-align: top;\n",
       "    }\n",
       "\n",
       "    .dataframe thead th {\n",
       "        text-align: right;\n",
       "    }\n",
       "</style>\n",
       "<table border=\"1\" class=\"dataframe\">\n",
       "  <thead>\n",
       "    <tr style=\"text-align: right;\">\n",
       "      <th></th>\n",
       "      <th>index</th>\n",
       "      <th>year</th>\n",
       "    </tr>\n",
       "  </thead>\n",
       "  <tbody>\n",
       "    <tr>\n",
       "      <th>0</th>\n",
       "      <td>1982</td>\n",
       "      <td>2570</td>\n",
       "    </tr>\n",
       "    <tr>\n",
       "      <th>1</th>\n",
       "      <td>2007</td>\n",
       "      <td>44</td>\n",
       "    </tr>\n",
       "    <tr>\n",
       "      <th>2</th>\n",
       "      <td>2000</td>\n",
       "      <td>4</td>\n",
       "    </tr>\n",
       "    <tr>\n",
       "      <th>3</th>\n",
       "      <td>1995</td>\n",
       "      <td>2</td>\n",
       "    </tr>\n",
       "    <tr>\n",
       "      <th>4</th>\n",
       "      <td>1999</td>\n",
       "      <td>2</td>\n",
       "    </tr>\n",
       "    <tr>\n",
       "      <th>5</th>\n",
       "      <td>1990</td>\n",
       "      <td>1</td>\n",
       "    </tr>\n",
       "    <tr>\n",
       "      <th>6</th>\n",
       "      <td>1991</td>\n",
       "      <td>1</td>\n",
       "    </tr>\n",
       "    <tr>\n",
       "      <th>7</th>\n",
       "      <td>1993</td>\n",
       "      <td>1</td>\n",
       "    </tr>\n",
       "    <tr>\n",
       "      <th>8</th>\n",
       "      <td>1998</td>\n",
       "      <td>1</td>\n",
       "    </tr>\n",
       "    <tr>\n",
       "      <th>9</th>\n",
       "      <td>2001</td>\n",
       "      <td>1</td>\n",
       "    </tr>\n",
       "    <tr>\n",
       "      <th>10</th>\n",
       "      <td>2003</td>\n",
       "      <td>1</td>\n",
       "    </tr>\n",
       "    <tr>\n",
       "      <th>11</th>\n",
       "      <td>2006</td>\n",
       "      <td>1</td>\n",
       "    </tr>\n",
       "  </tbody>\n",
       "</table>\n",
       "</div>"
      ],
      "text/plain": [
       "   index  year\n",
       "0   1982  2570\n",
       "1   2007    44\n",
       "2   2000     4\n",
       "3   1995     2\n",
       "4   1999     2\n",
       "5   1990     1\n",
       "6   1991     1\n",
       "7   1993     1\n",
       "8   1998     1\n",
       "9   2001     1\n",
       "10  2003     1\n",
       "11  2006     1"
      ]
     },
     "execution_count": 206,
     "metadata": {},
     "output_type": "execute_result"
    }
   ],
   "source": [
    "year_df =  ntsb_main_df['year'].value_counts().reset_index()\n",
    "year_df"
   ]
  },
  {
   "cell_type": "code",
   "execution_count": 209,
   "id": "bf05860a",
   "metadata": {},
   "outputs": [
    {
     "data": {
      "image/png": "[encoded data removed]",
      "text/plain": [
       "<Figure size 1152x432 with 1 Axes>"
      ]
     },
     "metadata": {
      "needs_background": "light"
     },
     "output_type": "display_data"
    }
   ],
   "source": [
    "#comparison btw number of accidents and purpose of flight \n",
    "plt.figure(figsize=(16,6))\n",
    "year_df =  ntsb_main_df['year'].value_counts().reset_index()\n",
    "sns.lineplot(x=year_df['index'],y=year_df['year'])\n",
    "plt.ylabel('No of Accidents')\n",
    "plt.xticks(rotation=45)\n",
    "plt.xlabel('Number of Accidents')\n",
    "plt.title(\"Number of Accidents per Year\")\n",
    "plt.show()\n"
   ]
  },
  {
   "cell_type": "markdown",
   "id": "4601b14c",
   "metadata": {},
   "source": [
    "<b>Observation:</b> There is be decline of accidents over the years"
   ]
  },
  {
   "cell_type": "code",
   "execution_count": 231,
   "id": "29ddedf4",
   "metadata": {},
   "outputs": [
    {
     "data": {
      "image/png": "[encoded data removed]",
      "text/plain": [
       "<Figure size 720x360 with 1 Axes>"
      ]
     },
     "metadata": {
      "needs_background": "light"
     },
     "output_type": "display_data"
    }
   ],
   "source": [
    "# Creating pivot table to aggregate total_uninjured by number_of_engines\n",
    "engine_uninjured = ntsb_main_df.pivot_table(index='number_of_engines', values='total_uninjured', aggfunc='sum')\n",
    "\n",
    "# Plotting data\n",
    "plt.figure(figsize=(10, 5))\n",
    "sns.barplot(x=engine_uninjured.index, y=engine_uninjured['total_uninjured'],color='#2a5783', ci=None) \n",
    "plt.xlabel('Number of Engines')\n",
    "plt.ylabel('Total Uninjured')\n",
    "plt.title('Comparison of Number of Engines to Total Uninjured');"
   ]
  },
  {
   "cell_type": "code",
   "execution_count": 259,
   "id": "41a5cc51",
   "metadata": {},
   "outputs": [
    {
     "data": {
      "image/png": "[encoded data removed]",
      "text/plain": [
       "<Figure size 720x360 with 1 Axes>"
      ]
     },
     "metadata": {
      "needs_background": "light"
     },
     "output_type": "display_data"
    }
   ],
   "source": [
    "# Creating pivot table to aggregate total_uninjured by number_of_engines\n",
    "engine_fatal = ntsb_main_df.pivot_table(index='number_of_engines', values='total_fatal_injuries', aggfunc='sum')\n",
    "\n",
    "# Plotting data\n",
    "plt.figure(figsize=(10, 5))\n",
    "sns.barplot(x=engine_fatal.index, y=engine_fatal['total_fatal_injuries'], color='#2a5783', ci=None) \n",
    "plt.xlabel('Number of Engines')\n",
    "plt.ylabel('Total Fatal Injuries')\n",
    "plt.title('Comparison of Number of Engines to Total Fatal Injuries')\n",
    "plt.savefig('No_of_Engines_to_Total_Fatal_Injuries.png')"
   ]
  },
  {
   "cell_type": "markdown",
   "id": "a2868900",
   "metadata": {},
   "source": [
    "<b>Observation:</b> Aircraft with <span><code>number_of_engines</code> </span>  = 1 is high risk "
   ]
  },
  {
   "cell_type": "markdown",
   "id": "62c0fd8c",
   "metadata": {},
   "source": [
    "## Multivariate Analysis"
   ]
  },
  {
   "cell_type": "code",
   "execution_count": 250,
   "id": "14a50e92",
   "metadata": {},
   "outputs": [
    {
     "data": {
      "image/png": "[encoded data removed]",
      "text/plain": [
       "<Figure size 1152x432 with 1 Axes>"
      ]
     },
     "metadata": {
      "needs_background": "light"
     },
     "output_type": "display_data"
    }
   ],
   "source": [
    "# Creating pivot table by count of number_of_engines by make\n",
    "make_engine = ntsb_main_df[ ntsb_main_df.number_of_engines > 1].pivot_table(index='make', columns='number_of_engines', aggfunc='size', fill_value=0) \n",
    "\n",
    "#Creating total column for each row to help sort\n",
    "make_engine['total'] = make_engine.sum(axis=1)  \n",
    "make_engine = make_engine.sort_values('total', ascending=False) \n",
    "plt.figure(figsize=(16, 6))\n",
    "make_engine.drop('total', axis=1).plot(kind='bar', stacked=False, ax=plt.gca(), colormap='cividis')\n",
    "\n",
    "# Plotting the data\n",
    "plt.ylabel('Number of Aircrafts')\n",
    "plt.xlabel('Make')\n",
    "plt.xticks(rotation=45)\n",
    "plt.title(\"Number of Aircrafts by Make Classified by Number of Engines\")\n",
    "plt.savefig('Number_of_Aircrafts_per_Make.png')\n",
    "plt.show()"
   ]
  },
  {
   "cell_type": "markdown",
   "id": "7752484f",
   "metadata": {},
   "source": [
    "<b>Observation:</b> Aircraft with <span><code>make</code> </span>  recommended is either Cessna, Piper or Beech"
   ]
  },
  {
   "cell_type": "code",
   "execution_count": 253,
   "id": "89635081",
   "metadata": {
    "scrolled": true
   },
   "outputs": [
    {
     "data": {
      "image/png": "[encoded data removed]",
      "text/plain": [
       "<Figure size 1152x432 with 1 Axes>"
      ]
     },
     "metadata": {
      "needs_background": "light"
     },
     "output_type": "display_data"
    }
   ],
   "source": [
    "# Creating pivot table by count of number_of_engines by model\n",
    "model_engine = ntsb_main_df[ ntsb_main_df.number_of_engines > 1].pivot_table(index='model', columns='number_of_engines', aggfunc='size', fill_value=0) \n",
    "\n",
    "#Creating total column for each row to help sort\n",
    "model_engine['total'] = model_engine.sum(axis=1)  \n",
    "model_engine = model_engine.sort_values('total', ascending=False).iloc[:10]\n",
    "plt.figure(figsize=(16, 6))\n",
    "model_engine.drop('total', axis=1).plot(kind='bar', stacked=False, ax=plt.gca(), colormap='cividis')\n",
    "\n",
    "# Plotting the data\n",
    "plt.ylabel('Number of Aircrafts')\n",
    "plt.xlabel('Model')\n",
    "plt.xticks(rotation=45)\n",
    "plt.title(\"Number of Aircrafts by Model Classified by Number of Engines\")\n",
    "plt.show()"
   ]
  },
  {
   "cell_type": "markdown",
   "id": "e738fac1",
   "metadata": {},
   "source": [
    "<b>Observation:</b> Aircraft <span><code>model</code> </span>  recommended is Pa=23-250, Pa-31-350 and 58"
   ]
  },
  {
   "cell_type": "code",
   "execution_count": 245,
   "id": "264a6806",
   "metadata": {},
   "outputs": [
    {
     "data": {
      "image/png": "[encoded data removed]",
      "text/plain": [
       "<Figure size 1152x432 with 1 Axes>"
      ]
     },
     "metadata": {
      "needs_background": "light"
     },
     "output_type": "display_data"
    }
   ],
   "source": [
    "# Creating pivot table by count of number_of_engines by purpose_of_flight\n",
    "model_engine = ntsb_main_df[ ntsb_main_df.number_of_engines > 1].pivot_table(index='purpose_of_flight', columns='number_of_engines', aggfunc='size', fill_value=0) \n",
    "\n",
    "#Creating total column for each row to help sort\n",
    "model_engine['total'] = model_engine.sum(axis=1)  \n",
    "model_engine = model_engine.sort_values('total', ascending=False).iloc[:10]\n",
    "plt.figure(figsize=(16, 6))\n",
    "model_engine.drop('total', axis=1).plot(kind='bar', stacked=False, ax=plt.gca(), colormap='cividis')\n",
    "\n",
    "# Plotting the data\n",
    "# Plotting the data\n",
    "plt.ylabel('Number of Aircrafts')\n",
    "plt.xlabel('Purpose of Flight')\n",
    "plt.xticks(rotation=45)\n",
    "plt.title(\"Number of Aircrafts by Purpose of Flight Classified by Number of Engines\")\n",
    "plt.show()"
   ]
  },
  {
   "cell_type": "markdown",
   "id": "5e8d5c1b",
   "metadata": {},
   "source": [
    "<b>Observation:</b> Aircraft for Personal, Unknown, Business dominates with <span><code>number_of_engines</code> </span> greater than 1"
   ]
  },
  {
   "cell_type": "code",
   "execution_count": 237,
   "id": "1de02000",
   "metadata": {},
   "outputs": [
    {
     "data": {
      "image/png": "[encoded data removed]",
      "text/plain": [
       "<Figure size 1152x432 with 1 Axes>"
      ]
     },
     "metadata": {
      "needs_background": "light"
     },
     "output_type": "display_data"
    }
   ],
   "source": [
    "#comparison btw number of engines, purpose of flight and severity \n",
    "plt.figure(figsize=(16,6))\n",
    "sns.barplot(y=ntsb_main_df['number_of_engines'],x=ntsb_main_df['purpose_of_flight'],hue=ntsb_main_df['injury_severity'],palette='Blues_r',ci=None)\n",
    "plt.ylabel('Number of Engines')\n",
    "plt.xticks(rotation=45)\n",
    "plt.xlabel('Purpose of Flight')\n",
    "plt.title(\"Number of Engines to Purpose of Flight\")\n",
    "plt.show()"
   ]
  },
  {
   "cell_type": "markdown",
   "id": "04c49cdd",
   "metadata": {},
   "source": [
    "<b>Observation:</b> Aircraft for Personal, Unknown, Business,Instructional, Ferry, Executive/Corporate,Positioning has <span><code>severity</code> </span> for incident greater than fatal"
   ]
  },
  {
   "cell_type": "code",
   "execution_count": 256,
   "id": "36f28c6d",
   "metadata": {},
   "outputs": [
    {
     "data": {
      "image/png": "[encoded data removed]",
      "text/plain": [
       "<Figure size 1152x432 with 1 Axes>"
      ]
     },
     "metadata": {
      "needs_background": "light"
     },
     "output_type": "display_data"
    }
   ],
   "source": [
    "#comparison btw number of engines, total injured  and severity\n",
    "plt.figure(figsize=(16,6))\n",
    "sns.barplot(x=ntsb_main_df['number_of_engines'],y=ntsb_main_df['total_uninjured'], hue=ntsb_main_df['calculated_severity'],palette='ocean', ci=None)\n",
    "plt.ylabel('Total Uninjured')\n",
    "plt.xticks(rotation=45)\n",
    "plt.xlabel('Number of Engines')\n",
    "plt.title(\"Total Uninjured to  Number of Engines\")\n",
    "plt.savefig('Total_Uninjured_to_No_of_Engines.png')\n",
    "plt.show()"
   ]
  },
  {
   "cell_type": "markdown",
   "id": "3577607d",
   "metadata": {},
   "source": [
    "<b>Observation:</b> Engines with 2 injuries caused less harm"
   ]
  },
  {
   "cell_type": "code",
   "execution_count": 257,
   "id": "1361470e",
   "metadata": {},
   "outputs": [
    {
     "data": {
      "image/png": "[encoded data removed]",
      "text/plain": [
       "<Figure size 1152x432 with 1 Axes>"
      ]
     },
     "metadata": {
      "needs_background": "light"
     },
     "output_type": "display_data"
    }
   ],
   "source": [
    "#comparison btw year, total injured and injury_severity  \n",
    "plt.figure(figsize=(16,6))\n",
    "total_injuries = ntsb_main_df['total_fatal_injuries']+ntsb_main_df['total_serious_injuries']+ ntsb_main_df['total_minor_injuries']\n",
    "sns.lineplot(x=ntsb_main_df['year'],y=total_injuries, hue=ntsb_main_df['calculated_severity'],ci=None,palette='ocean')\n",
    "plt.ylabel('Total Injuries')\n",
    "plt.xticks(rotation=45)\n",
    "plt.xlabel('Year')\n",
    "plt.title(\"Total Injuries per Year Classified by Severity\")\n",
    "plt.savefig('Total_Injuries_per_Year.png')\n",
    "plt.show()"
   ]
  },
  {
   "cell_type": "markdown",
   "id": "86c13e33",
   "metadata": {},
   "source": [
    "<b>Observation</b> There is increase of accidents over the years with severity getting worse"
   ]
  },
  {
   "cell_type": "code",
   "execution_count": 258,
   "id": "1c98a3cf",
   "metadata": {
    "scrolled": true
   },
   "outputs": [
    {
     "data": {
      "image/png": "[encoded data removed]",
      "text/plain": [
       "<Figure size 1152x432 with 1 Axes>"
      ]
     },
     "metadata": {
      "needs_background": "light"
     },
     "output_type": "display_data"
    }
   ],
   "source": [
    "#comparison btw year, total injured and injury_severity  \n",
    "plt.figure(figsize=(16,6))\n",
    "total_injuries = ntsb_main_df['total_fatal_injuries']+ntsb_main_df['total_serious_injuries']+ ntsb_main_df['total_minor_injuries']\n",
    "sns.lineplot(x=ntsb_main_df['year'],y=total_injuries, hue=ntsb_main_df['make'],palette='Blues_r',ci=None)\n",
    "plt.ylabel('Total Injuries')\n",
    "plt.xticks(rotation=45)\n",
    "plt.xlabel('Year')\n",
    "plt.title(\"Total Injuries per Year Classified by Make\")\n",
    "plt.savefig('Total_Injuries_per_Year_by_make.png')\n",
    "plt.show()"
   ]
  },
  {
   "cell_type": "markdown",
   "id": "d4e32c98",
   "metadata": {},
   "source": [
    "<b>Observation:</b> There is increase of accidents for all the aircraft make. Cessna has however from around 2003 has experienced a decline."
   ]
  }
 ],
 "metadata": {
  "kernelspec": {
   "display_name": "Python 3 (ipykernel)",
   "language": "python",
   "name": "python3"
  },
  "language_info": {
   "codemirror_mode": {
    "name": "ipython",
    "version": 3
   },
   "file_extension": ".py",
   "mimetype": "text/x-python",
   "name": "python",
   "nbconvert_exporter": "python",
   "pygments_lexer": "ipython3",
   "version": "3.9.7"
  },
  "toc": {
   "base_numbering": 1,
   "nav_menu": {},
   "number_sections": true,
   "sideBar": true,
   "skip_h1_title": false,
   "title_cell": "Table of Contents",
   "title_sidebar": "Contents",
   "toc_cell": false,
   "toc_position": {},
   "toc_section_display": true,
   "toc_window_display": false
  }
 },
 "nbformat": 4,
 "nbformat_minor": 5
}
