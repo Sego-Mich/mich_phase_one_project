{
 "cells": [
  {
   "cell_type": "markdown",
   "id": "53c3c9e8",
   "metadata": {},
   "source": [
    "# Business Understanding \n",
    "## Business problem: \n",
    "My company is expanding in to new industries to diversify its portfolio. They are interested in purchasing and operating airplanes for commercial and private enterprises, I am charged to determine anything about the potential risks of aircraft. I am charged with determining which aircraft are the lowest risk for the company to start this new business endeavor.I am must then translate my findings into actionable insights that the head of the new aviation division can use to help decide which aircraft to purchase.\n",
    "## Project objectives: \n",
    "### Main objective\n",
    "To help decide which aircraft to purchase.\n",
    "### Specific objectives\n",
    "To be determined\n"
   ]
  },
  {
   "cell_type": "markdown",
   "id": "f7891da0",
   "metadata": {},
   "source": [
    "# Data Understanding \n",
    "## Data collection\n",
    "[Data](https://www.kaggle.com/datasets/khsamaha/aviation-accident-database-synopses) was collected from the National Transportation Safety Board that includes aviation accident data from 1962 to 2023 about civil aviation accidents and selected incidents in the United States and international waters.\n",
    "## Data exploration\n",
    "Analyzing the data to identify patterns, missing values, and anomalies.\n",
    "Univariate Analysis\n",
    "Bivariate Analysis\n",
    "Multivariate Analysis"
   ]
  },
  {
   "cell_type": "markdown",
   "id": "73ab1793",
   "metadata": {},
   "source": [
    "# Data Preparation\n",
    "## Cleaning\n",
    "Handling missing values, duplicates, or errors in the data.\n",
    "## Transformation\n",
    "Normalizing, scaling, or encoding data\n",
    "\n",
    "## Feature engineering\n",
    "Creating new variables or features(if any) that better represent the problem.\n"
   ]
  },
  {
   "cell_type": "code",
   "execution_count": null,
   "id": "95871651",
   "metadata": {},
   "outputs": [],
   "source": []
  }
 ],
 "metadata": {
  "kernelspec": {
   "display_name": "Python 3 (ipykernel)",
   "language": "python",
   "name": "python3"
  },
  "language_info": {
   "codemirror_mode": {
    "name": "ipython",
    "version": 3
   },
   "file_extension": ".py",
   "mimetype": "text/x-python",
   "name": "python",
   "nbconvert_exporter": "python",
   "pygments_lexer": "ipython3",
   "version": "3.9.7"
  },
  "toc": {
   "base_numbering": 1,
   "nav_menu": {},
   "number_sections": true,
   "sideBar": true,
   "skip_h1_title": false,
   "title_cell": "Table of Contents",
   "title_sidebar": "Contents",
   "toc_cell": false,
   "toc_position": {},
   "toc_section_display": true,
   "toc_window_display": false
  }
 },
 "nbformat": 4,
 "nbformat_minor": 5
}
